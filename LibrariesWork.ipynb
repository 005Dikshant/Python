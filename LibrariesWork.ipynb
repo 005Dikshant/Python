{
 "cells": [
  {
   "cell_type": "code",
   "execution_count": 3,
   "metadata": {},
   "outputs": [
    {
     "name": "stdout",
     "output_type": "stream",
     "text": [
      "Requirement already satisfied: numpy in c:\\users\\monkey d. appl3\\appdata\\local\\programs\\python\\python36-32\\lib\\site-packages\n"
     ]
    },
    {
     "name": "stderr",
     "output_type": "stream",
     "text": [
      "You are using pip version 9.0.1, however version 19.1.1 is available.\n",
      "You should consider upgrading via the 'python -m pip install --upgrade pip' command.\n"
     ]
    }
   ],
   "source": [
    "!pip install numpy"
   ]
  },
  {
   "cell_type": "code",
   "execution_count": 4,
   "metadata": {},
   "outputs": [
    {
     "name": "stdout",
     "output_type": "stream",
     "text": [
      "Requirement already satisfied: pandas in c:\\users\\monkey d. appl3\\appdata\\local\\programs\\python\\python36-32\\lib\\site-packages\n",
      "Requirement already satisfied: python-dateutil>=2.5.0 in c:\\users\\monkey d. appl3\\appdata\\local\\programs\\python\\python36-32\\lib\\site-packages (from pandas)\n",
      "Requirement already satisfied: pytz>=2011k in c:\\users\\monkey d. appl3\\appdata\\local\\programs\\python\\python36-32\\lib\\site-packages (from pandas)\n",
      "Requirement already satisfied: numpy>=1.12.0 in c:\\users\\monkey d. appl3\\appdata\\local\\programs\\python\\python36-32\\lib\\site-packages (from pandas)\n",
      "Requirement already satisfied: six>=1.5 in c:\\users\\monkey d. appl3\\appdata\\local\\programs\\python\\python36-32\\lib\\site-packages (from python-dateutil>=2.5.0->pandas)\n"
     ]
    },
    {
     "name": "stderr",
     "output_type": "stream",
     "text": [
      "You are using pip version 9.0.1, however version 19.1.1 is available.\n",
      "You should consider upgrading via the 'python -m pip install --upgrade pip' command.\n"
     ]
    }
   ],
   "source": [
    "!pip install pandas"
   ]
  },
  {
   "cell_type": "code",
   "execution_count": 5,
   "metadata": {},
   "outputs": [
    {
     "name": "stdout",
     "output_type": "stream",
     "text": [
      "Requirement already satisfied: matplotlib in c:\\users\\monkey d. appl3\\appdata\\local\\programs\\python\\python36-32\\lib\\site-packages\n",
      "Requirement already satisfied: python-dateutil>=2.1 in c:\\users\\monkey d. appl3\\appdata\\local\\programs\\python\\python36-32\\lib\\site-packages (from matplotlib)\n",
      "Requirement already satisfied: pyparsing!=2.0.4,!=2.1.2,!=2.1.6,>=2.0.1 in c:\\users\\monkey d. appl3\\appdata\\local\\programs\\python\\python36-32\\lib\\site-packages (from matplotlib)\n",
      "Requirement already satisfied: kiwisolver>=1.0.1 in c:\\users\\monkey d. appl3\\appdata\\local\\programs\\python\\python36-32\\lib\\site-packages (from matplotlib)\n",
      "Requirement already satisfied: cycler>=0.10 in c:\\users\\monkey d. appl3\\appdata\\local\\programs\\python\\python36-32\\lib\\site-packages (from matplotlib)\n",
      "Requirement already satisfied: numpy>=1.11 in c:\\users\\monkey d. appl3\\appdata\\local\\programs\\python\\python36-32\\lib\\site-packages (from matplotlib)\n",
      "Requirement already satisfied: six>=1.5 in c:\\users\\monkey d. appl3\\appdata\\local\\programs\\python\\python36-32\\lib\\site-packages (from python-dateutil>=2.1->matplotlib)\n",
      "Requirement already satisfied: setuptools in c:\\users\\monkey d. appl3\\appdata\\local\\programs\\python\\python36-32\\lib\\site-packages (from kiwisolver>=1.0.1->matplotlib)\n"
     ]
    },
    {
     "name": "stderr",
     "output_type": "stream",
     "text": [
      "You are using pip version 9.0.1, however version 19.1.1 is available.\n",
      "You should consider upgrading via the 'python -m pip install --upgrade pip' command.\n"
     ]
    }
   ],
   "source": [
    "!pip install matplotlib"
   ]
  },
  {
   "cell_type": "code",
   "execution_count": 6,
   "metadata": {},
   "outputs": [],
   "source": [
    "import numpy as np"
   ]
  },
  {
   "cell_type": "code",
   "execution_count": 7,
   "metadata": {},
   "outputs": [],
   "source": [
    "a = np.asarray([1,2,3],dtype = 'float32')"
   ]
  },
  {
   "cell_type": "code",
   "execution_count": 8,
   "metadata": {},
   "outputs": [
    {
     "name": "stdout",
     "output_type": "stream",
     "text": [
      "<class 'numpy.ndarray'>\n"
     ]
    }
   ],
   "source": [
    "print(type(a))"
   ]
  },
  {
   "cell_type": "code",
   "execution_count": 9,
   "metadata": {},
   "outputs": [
    {
     "name": "stdout",
     "output_type": "stream",
     "text": [
      "[1. 2. 3.]\n"
     ]
    }
   ],
   "source": [
    "print(a)"
   ]
  },
  {
   "cell_type": "code",
   "execution_count": 10,
   "metadata": {},
   "outputs": [],
   "source": [
    "b = np.array([4,5,6],dtype = 'int32')"
   ]
  },
  {
   "cell_type": "code",
   "execution_count": 11,
   "metadata": {},
   "outputs": [
    {
     "data": {
      "text/plain": [
       "array([1., 2., 3.], dtype=float32)"
      ]
     },
     "execution_count": 11,
     "metadata": {},
     "output_type": "execute_result"
    }
   ],
   "source": [
    "a"
   ]
  },
  {
   "cell_type": "code",
   "execution_count": 12,
   "metadata": {},
   "outputs": [
    {
     "name": "stdout",
     "output_type": "stream",
     "text": [
      "[2. 3. 4.]\n"
     ]
    }
   ],
   "source": [
    "print(a+1)"
   ]
  },
  {
   "cell_type": "code",
   "execution_count": 13,
   "metadata": {},
   "outputs": [
    {
     "data": {
      "text/plain": [
       "array([1., 2., 3.], dtype=float32)"
      ]
     },
     "execution_count": 13,
     "metadata": {},
     "output_type": "execute_result"
    }
   ],
   "source": [
    "a"
   ]
  },
  {
   "cell_type": "code",
   "execution_count": 14,
   "metadata": {},
   "outputs": [
    {
     "name": "stdout",
     "output_type": "stream",
     "text": [
      "[1. 2. 3.]\n"
     ]
    }
   ],
   "source": [
    "print(a)"
   ]
  },
  {
   "cell_type": "code",
   "execution_count": 15,
   "metadata": {},
   "outputs": [
    {
     "name": "stdout",
     "output_type": "stream",
     "text": [
      "[2 3 4]\n"
     ]
    }
   ],
   "source": [
    "print(b-2)"
   ]
  },
  {
   "cell_type": "code",
   "execution_count": 16,
   "metadata": {},
   "outputs": [
    {
     "name": "stdout",
     "output_type": "stream",
     "text": [
      "[5. 7. 9.]\n"
     ]
    }
   ],
   "source": [
    "print(a+b)"
   ]
  },
  {
   "cell_type": "code",
   "execution_count": 22,
   "metadata": {},
   "outputs": [],
   "source": [
    "a = np.array([[1,2,3],[7,8,9]])"
   ]
  },
  {
   "cell_type": "code",
   "execution_count": 23,
   "metadata": {},
   "outputs": [],
   "source": [
    "a[1][0] = 12"
   ]
  },
  {
   "cell_type": "code",
   "execution_count": 25,
   "metadata": {},
   "outputs": [
    {
     "name": "stdout",
     "output_type": "stream",
     "text": [
      "[[ 1  2  3]\n",
      " [12  8  9]]\n"
     ]
    }
   ],
   "source": [
    "print(a)"
   ]
  },
  {
   "cell_type": "code",
   "execution_count": 26,
   "metadata": {},
   "outputs": [
    {
     "data": {
      "text/plain": [
       "2"
      ]
     },
     "execution_count": 26,
     "metadata": {},
     "output_type": "execute_result"
    }
   ],
   "source": [
    "a.ndim"
   ]
  },
  {
   "cell_type": "code",
   "execution_count": 40,
   "metadata": {},
   "outputs": [
    {
     "data": {
      "text/plain": [
       "array([[1, 7],\n",
       "       [2, 8],\n",
       "       [3, 9]])"
      ]
     },
     "execution_count": 40,
     "metadata": {},
     "output_type": "execute_result"
    }
   ],
   "source": [
    "a.T"
   ]
  },
  {
   "cell_type": "code",
   "execution_count": 20,
   "metadata": {},
   "outputs": [],
   "source": [
    "sum1 = np.add(a,b)"
   ]
  },
  {
   "cell_type": "code",
   "execution_count": 21,
   "metadata": {},
   "outputs": [
    {
     "name": "stdout",
     "output_type": "stream",
     "text": [
      "[5 7 9]\n"
     ]
    }
   ],
   "source": [
    "print(sum1)"
   ]
  },
  {
   "cell_type": "code",
   "execution_count": 22,
   "metadata": {},
   "outputs": [
    {
     "name": "stdout",
     "output_type": "stream",
     "text": [
      "6\n"
     ]
    }
   ],
   "source": [
    "sum2 = np.sum(a)\n",
    "print(sum2)"
   ]
  },
  {
   "cell_type": "code",
   "execution_count": 47,
   "metadata": {},
   "outputs": [
    {
     "name": "stdout",
     "output_type": "stream",
     "text": [
      "empty\n"
     ]
    }
   ],
   "source": [
    "lis = []\n",
    "if not lis:\n",
    "    print(\"empty\")\n",
    "else:\n",
    "    print(\"not empty\")"
   ]
  },
  {
   "cell_type": "code",
   "execution_count": 43,
   "metadata": {},
   "outputs": [],
   "source": [
    "def check(lis1):\n",
    "    return (np.array(lis1))"
   ]
  },
  {
   "cell_type": "code",
   "execution_count": 46,
   "metadata": {},
   "outputs": [
    {
     "name": "stdout",
     "output_type": "stream",
     "text": [
      "empty\n"
     ]
    }
   ],
   "source": [
    "lis1 = []\n",
    "if check(lis1).size:\n",
    "    print(\"not empty\")\n",
    "else:\n",
    "    print(\"empty\")"
   ]
  },
  {
   "cell_type": "code",
   "execution_count": 49,
   "metadata": {},
   "outputs": [
    {
     "name": "stdout",
     "output_type": "stream",
     "text": [
      "empty\n"
     ]
    }
   ],
   "source": [
    "lis2 = []\n",
    "a1 = np.array(lis2)\n",
    "if(a1.size):\n",
    "    print(\"not empty\")\n",
    "else:\n",
    "    print(\"empty\")"
   ]
  },
  {
   "cell_type": "code",
   "execution_count": 57,
   "metadata": {},
   "outputs": [],
   "source": [
    "def c1(lis):\n",
    "    unique_list = []\n",
    "    for x in lis:\n",
    "        if(x not in unique_list):\n",
    "            unique_list.append(x)\n",
    "\n",
    "    print(unique_list)"
   ]
  },
  {
   "cell_type": "code",
   "execution_count": 61,
   "metadata": {},
   "outputs": [
    {
     "name": "stdout",
     "output_type": "stream",
     "text": [
      "[1, 2, 3, 4, 5, 6]\n",
      "[1, 2, 3, 4, 5, 6]\n",
      "[1 2 3 4 5 6]\n"
     ]
    }
   ],
   "source": [
    "lis2 = [1,1,1,2,3,4,5,6]\n",
    "c1(lis2)\n",
    "s1 = set(lis2)\n",
    "l1 = list(s1)\n",
    "print(l1)\n",
    "x = np.array(lis2)\n",
    "print(np.unique(x))"
   ]
  },
  {
   "cell_type": "code",
   "execution_count": 62,
   "metadata": {},
   "outputs": [
    {
     "name": "stdout",
     "output_type": "stream",
     "text": [
      "6\n"
     ]
    }
   ],
   "source": [
    "lis1 = [1,2,3]\n",
    "mul = 1\n",
    "for x in lis1:\n",
    "    mul *= x\n",
    "print(mul)"
   ]
  },
  {
   "cell_type": "code",
   "execution_count": 63,
   "metadata": {},
   "outputs": [
    {
     "data": {
      "text/plain": [
       "6"
      ]
     },
     "execution_count": 63,
     "metadata": {},
     "output_type": "execute_result"
    }
   ],
   "source": [
    "np.prod(lis1)"
   ]
  },
  {
   "cell_type": "code",
   "execution_count": 68,
   "metadata": {},
   "outputs": [
    {
     "name": "stdout",
     "output_type": "stream",
     "text": [
      "[[ 63 320  83]\n",
      " [ 77 484 102]\n",
      " [ 84 248 117]]\n"
     ]
    }
   ],
   "source": [
    "mat = ([1,6,5],[3,4,8],[2,12,3])\n",
    "mat1 = ([3,4,6],[5,6,7],[6,56,7])\n",
    "res =np.dot(mat,mat1)\n",
    "print(res)\n",
    "\n",
    "#'''''mat1 = ([1, 6, 5],[3 ,4, 8],[2, 12, 3]) \n",
    "#mat2 = ([3, 4, 6],[5, 6, 7],[6,56, 7])'''"
   ]
  },
  {
   "cell_type": "code",
   "execution_count": 74,
   "metadata": {},
   "outputs": [],
   "source": [
    "n = 8\n",
    "x = np.zeros([n,n],dtype='int')"
   ]
  },
  {
   "cell_type": "code",
   "execution_count": 75,
   "metadata": {},
   "outputs": [],
   "source": [
    "x[1::2,::2] = 1\n",
    "x[::2,1::2] = 1"
   ]
  },
  {
   "cell_type": "code",
   "execution_count": 76,
   "metadata": {},
   "outputs": [
    {
     "name": "stdout",
     "output_type": "stream",
     "text": [
      "0 1 0 1 0 1 0 1 \n",
      "1 0 1 0 1 0 1 0 \n",
      "0 1 0 1 0 1 0 1 \n",
      "1 0 1 0 1 0 1 0 \n",
      "0 1 0 1 0 1 0 1 \n",
      "1 0 1 0 1 0 1 0 \n",
      "0 1 0 1 0 1 0 1 \n",
      "1 0 1 0 1 0 1 0 \n"
     ]
    }
   ],
   "source": [
    "for i in range(n):\n",
    "    for j in range(n):\n",
    "        print(x[i][j],end = \" \")\n",
    "    print()"
   ]
  },
  {
   "cell_type": "code",
   "execution_count": 77,
   "metadata": {},
   "outputs": [
    {
     "name": "stdout",
     "output_type": "stream",
     "text": [
      "0\n",
      "1\n",
      "2\n",
      "3\n",
      "4\n",
      "5\n",
      "6\n",
      "7\n"
     ]
    }
   ],
   "source": [
    "for i in range(8):\n",
    "    print(i)"
   ]
  },
  {
   "cell_type": "code",
   "execution_count": 80,
   "metadata": {},
   "outputs": [
    {
     "name": "stdout",
     "output_type": "stream",
     "text": [
      "[[ 1  2  3]\n",
      " [12 11 13]\n",
      " [21 22 23]]\n"
     ]
    }
   ],
   "source": [
    "x = np.array([[1,2,3],[12,11,13],[21,22,23]])\n",
    "print(x)"
   ]
  },
  {
   "cell_type": "code",
   "execution_count": 123,
   "metadata": {},
   "outputs": [
    {
     "name": "stdout",
     "output_type": "stream",
     "text": [
      "(3, 3)\n"
     ]
    }
   ],
   "source": [
    "x[0][1] = 4\n",
    "print(x.shape)"
   ]
  },
  {
   "cell_type": "code",
   "execution_count": 124,
   "metadata": {},
   "outputs": [],
   "source": [
    "x[:,2:3] = 100"
   ]
  },
  {
   "cell_type": "code",
   "execution_count": 125,
   "metadata": {},
   "outputs": [
    {
     "name": "stdout",
     "output_type": "stream",
     "text": [
      "[[  1   4 100]\n",
      " [ 12  11 100]\n",
      " [ 50  50 100]]\n"
     ]
    }
   ],
   "source": [
    "print(x)"
   ]
  },
  {
   "cell_type": "code",
   "execution_count": 84,
   "metadata": {},
   "outputs": [],
   "source": [
    "x[2:3,:] = 50"
   ]
  },
  {
   "cell_type": "code",
   "execution_count": 85,
   "metadata": {},
   "outputs": [
    {
     "name": "stdout",
     "output_type": "stream",
     "text": [
      "[[  1   2 100]\n",
      " [ 12  11 100]\n",
      " [ 50  50  50]]\n"
     ]
    }
   ],
   "source": [
    "print(x)"
   ]
  },
  {
   "cell_type": "code",
   "execution_count": 86,
   "metadata": {},
   "outputs": [],
   "source": [
    "six_identity = np.eye(5,dtype='int32')"
   ]
  },
  {
   "cell_type": "code",
   "execution_count": 87,
   "metadata": {},
   "outputs": [
    {
     "name": "stdout",
     "output_type": "stream",
     "text": [
      "[[1 0 0 0 0]\n",
      " [0 1 0 0 0]\n",
      " [0 0 1 0 0]\n",
      " [0 0 0 1 0]\n",
      " [0 0 0 0 1]]\n"
     ]
    }
   ],
   "source": [
    "print(six_identity)"
   ]
  },
  {
   "cell_type": "code",
   "execution_count": 88,
   "metadata": {},
   "outputs": [],
   "source": [
    "six_identity = 6 * np.eye(5,dtype = 'int32')"
   ]
  },
  {
   "cell_type": "code",
   "execution_count": 89,
   "metadata": {},
   "outputs": [
    {
     "name": "stdout",
     "output_type": "stream",
     "text": [
      "[[6 0 0 0 0]\n",
      " [0 6 0 0 0]\n",
      " [0 0 6 0 0]\n",
      " [0 0 0 6 0]\n",
      " [0 0 0 0 6]]\n"
     ]
    }
   ],
   "source": [
    "print(six_identity)"
   ]
  },
  {
   "cell_type": "code",
   "execution_count": 90,
   "metadata": {},
   "outputs": [
    {
     "data": {
      "text/plain": [
       "array([[13, 12, 16, 12, 14],\n",
       "       [17, 10, 15, 13, 15],\n",
       "       [10, 10, 12, 17, 13],\n",
       "       [13, 15, 11, 12, 13],\n",
       "       [16, 15, 18, 13, 12]])"
      ]
     },
     "execution_count": 90,
     "metadata": {},
     "output_type": "execute_result"
    }
   ],
   "source": [
    "np.random.randint(10,20,(5,5))"
   ]
  },
  {
   "cell_type": "code",
   "execution_count": 91,
   "metadata": {},
   "outputs": [
    {
     "data": {
      "text/plain": [
       "array([[16, 11, 16],\n",
       "       [11, 14, 16],\n",
       "       [18, 19, 12]])"
      ]
     },
     "execution_count": 91,
     "metadata": {},
     "output_type": "execute_result"
    }
   ],
   "source": [
    "np.random.randint(10,20,(3,3))"
   ]
  },
  {
   "cell_type": "code",
   "execution_count": 92,
   "metadata": {},
   "outputs": [
    {
     "data": {
      "text/plain": [
       "array([14, 13, 16, 18, 16])"
      ]
     },
     "execution_count": 92,
     "metadata": {},
     "output_type": "execute_result"
    }
   ],
   "source": [
    "np.random.randint(10,20,(5,))"
   ]
  },
  {
   "cell_type": "code",
   "execution_count": 93,
   "metadata": {},
   "outputs": [
    {
     "data": {
      "text/plain": [
       "array([[16],\n",
       "       [15],\n",
       "       [15],\n",
       "       [11],\n",
       "       [11]])"
      ]
     },
     "execution_count": 93,
     "metadata": {},
     "output_type": "execute_result"
    }
   ],
   "source": [
    "np.random.randint(10,20,(5,1))"
   ]
  },
  {
   "cell_type": "code",
   "execution_count": 98,
   "metadata": {
    "collapsed": true
   },
   "outputs": [
    {
     "data": {
      "text/plain": [
       "array([[[16, 13, 15, 19, 10, 10],\n",
       "        [19, 17, 12, 19, 15, 12],\n",
       "        [14, 16, 17, 17, 11, 11],\n",
       "        [18, 16, 19, 13, 17, 12],\n",
       "        [12, 11, 12, 16, 12, 17]],\n",
       "\n",
       "       [[14, 14, 12, 10, 16, 12],\n",
       "        [18, 19, 14, 17, 14, 14],\n",
       "        [17, 19, 12, 15, 15, 11],\n",
       "        [11, 18, 13, 11, 19, 12],\n",
       "        [12, 14, 14, 17, 13, 11]],\n",
       "\n",
       "       [[15, 16, 13, 15, 19, 10],\n",
       "        [15, 10, 18, 19, 14, 18],\n",
       "        [17, 12, 14, 13, 14, 16],\n",
       "        [19, 19, 13, 13, 14, 19],\n",
       "        [19, 19, 19, 15, 15, 14]],\n",
       "\n",
       "       [[19, 19, 13, 16, 13, 16],\n",
       "        [16, 10, 13, 17, 10, 10],\n",
       "        [12, 10, 13, 14, 18, 11],\n",
       "        [18, 11, 18, 17, 10, 12],\n",
       "        [10, 14, 12, 14, 17, 12]],\n",
       "\n",
       "       [[19, 13, 15, 11, 12, 10],\n",
       "        [12, 17, 18, 11, 16, 16],\n",
       "        [17, 15, 16, 10, 17, 15],\n",
       "        [16, 13, 16, 15, 10, 15],\n",
       "        [11, 15, 18, 13, 18, 16]],\n",
       "\n",
       "       [[12, 10, 15, 15, 18, 11],\n",
       "        [16, 15, 10, 14, 16, 15],\n",
       "        [14, 13, 15, 14, 16, 18],\n",
       "        [17, 15, 16, 17, 16, 16],\n",
       "        [15, 18, 17, 12, 11, 10]]])"
      ]
     },
     "execution_count": 98,
     "metadata": {},
     "output_type": "execute_result"
    }
   ],
   "source": [
    "np.random.randint(10,20,(6,5,6))"
   ]
  },
  {
   "cell_type": "code",
   "execution_count": 105,
   "metadata": {},
   "outputs": [],
   "source": [
    "a = np.random.randint(1,5,(3,4))\n",
    "b = np.random.randint(5,10,(3,4))"
   ]
  },
  {
   "cell_type": "code",
   "execution_count": 106,
   "metadata": {},
   "outputs": [
    {
     "name": "stdout",
     "output_type": "stream",
     "text": [
      "[[2 1 1 1]\n",
      " [2 2 1 4]\n",
      " [1 4 1 3]]\n"
     ]
    }
   ],
   "source": [
    "print(a)"
   ]
  },
  {
   "cell_type": "code",
   "execution_count": 107,
   "metadata": {},
   "outputs": [
    {
     "name": "stdout",
     "output_type": "stream",
     "text": [
      "[[4 3 3 3]\n",
      " [4 4 3 6]\n",
      " [3 6 3 5]]\n"
     ]
    }
   ],
   "source": [
    "print(a+2)"
   ]
  },
  {
   "cell_type": "code",
   "execution_count": 108,
   "metadata": {},
   "outputs": [
    {
     "name": "stdout",
     "output_type": "stream",
     "text": [
      "[[4 3 3 3]\n",
      " [4 4 3 6]\n",
      " [3 6 3 5]]\n"
     ]
    }
   ],
   "source": [
    "print (a+2)"
   ]
  },
  {
   "cell_type": "code",
   "execution_count": 109,
   "metadata": {},
   "outputs": [],
   "source": [
    "c = b - a"
   ]
  },
  {
   "cell_type": "code",
   "execution_count": 110,
   "metadata": {},
   "outputs": [
    {
     "name": "stdout",
     "output_type": "stream",
     "text": [
      "[[4 4 7 5]\n",
      " [3 7 5 5]\n",
      " [8 2 7 2]]\n"
     ]
    }
   ],
   "source": [
    "print(c)"
   ]
  },
  {
   "cell_type": "code",
   "execution_count": 111,
   "metadata": {},
   "outputs": [],
   "source": [
    "c = b + a"
   ]
  },
  {
   "cell_type": "code",
   "execution_count": 112,
   "metadata": {},
   "outputs": [
    {
     "name": "stdout",
     "output_type": "stream",
     "text": [
      "[[ 8  6  9  7]\n",
      " [ 7 11  7 13]\n",
      " [10 10  9  8]]\n"
     ]
    }
   ],
   "source": [
    "print(c)"
   ]
  },
  {
   "cell_type": "code",
   "execution_count": 113,
   "metadata": {},
   "outputs": [],
   "source": [
    "l = np.array([1,2,3])"
   ]
  },
  {
   "cell_type": "code",
   "execution_count": 114,
   "metadata": {},
   "outputs": [
    {
     "name": "stdout",
     "output_type": "stream",
     "text": [
      "[1 4 9]\n"
     ]
    }
   ],
   "source": [
    "print(l**2)"
   ]
  },
  {
   "cell_type": "code",
   "execution_count": 115,
   "metadata": {},
   "outputs": [],
   "source": [
    "d = np.array(c)"
   ]
  },
  {
   "cell_type": "code",
   "execution_count": 116,
   "metadata": {},
   "outputs": [
    {
     "name": "stdout",
     "output_type": "stream",
     "text": [
      "[[ 8  6  9  7]\n",
      " [ 7 11  7 13]\n",
      " [10 10  9  8]]\n"
     ]
    }
   ],
   "source": [
    "print (d)"
   ]
  },
  {
   "cell_type": "code",
   "execution_count": 117,
   "metadata": {},
   "outputs": [],
   "source": [
    "d[0][0] = 10"
   ]
  },
  {
   "cell_type": "code",
   "execution_count": 118,
   "metadata": {},
   "outputs": [
    {
     "name": "stdout",
     "output_type": "stream",
     "text": [
      "[[10  6  9  7]\n",
      " [ 7 11  7 13]\n",
      " [10 10  9  8]]\n"
     ]
    }
   ],
   "source": [
    "print (d)"
   ]
  },
  {
   "cell_type": "code",
   "execution_count": 119,
   "metadata": {},
   "outputs": [],
   "source": [
    "c[0][0] = 2"
   ]
  },
  {
   "cell_type": "code",
   "execution_count": 120,
   "metadata": {},
   "outputs": [
    {
     "name": "stdout",
     "output_type": "stream",
     "text": [
      "[[ 2  6  9  7]\n",
      " [ 7 11  7 13]\n",
      " [10 10  9  8]]\n"
     ]
    }
   ],
   "source": [
    "print(c)"
   ]
  },
  {
   "cell_type": "code",
   "execution_count": 121,
   "metadata": {},
   "outputs": [],
   "source": [
    "a[0][0] = 2"
   ]
  },
  {
   "cell_type": "code",
   "execution_count": 122,
   "metadata": {},
   "outputs": [
    {
     "name": "stdout",
     "output_type": "stream",
     "text": [
      "[[2 1 1 1]\n",
      " [2 2 1 4]\n",
      " [1 4 1 3]]\n"
     ]
    }
   ],
   "source": [
    "print(a)"
   ]
  },
  {
   "cell_type": "code",
   "execution_count": 127,
   "metadata": {},
   "outputs": [],
   "source": [
    "c = np.vstack(a)"
   ]
  },
  {
   "cell_type": "code",
   "execution_count": 128,
   "metadata": {},
   "outputs": [
    {
     "name": "stdout",
     "output_type": "stream",
     "text": [
      "[[2 1 1 1]\n",
      " [2 2 1 4]\n",
      " [1 4 1 3]]\n"
     ]
    }
   ],
   "source": [
    "print(c)"
   ]
  },
  {
   "cell_type": "code",
   "execution_count": 129,
   "metadata": {},
   "outputs": [],
   "source": [
    "c = np.vstack((a,b))"
   ]
  },
  {
   "cell_type": "code",
   "execution_count": 130,
   "metadata": {},
   "outputs": [
    {
     "name": "stdout",
     "output_type": "stream",
     "text": [
      "[[2 1 1 1]\n",
      " [2 2 1 4]\n",
      " [1 4 1 3]\n",
      " [6 5 8 6]\n",
      " [5 9 6 9]\n",
      " [9 6 8 5]]\n"
     ]
    }
   ],
   "source": [
    "print(c)"
   ]
  },
  {
   "cell_type": "code",
   "execution_count": 131,
   "metadata": {},
   "outputs": [],
   "source": [
    "c = np.hstack((a,b))"
   ]
  },
  {
   "cell_type": "code",
   "execution_count": 132,
   "metadata": {},
   "outputs": [
    {
     "name": "stdout",
     "output_type": "stream",
     "text": [
      "[[2 1 1 1 6 5 8 6]\n",
      " [2 2 1 4 5 9 6 9]\n",
      " [1 4 1 3 9 6 8 5]]\n"
     ]
    }
   ],
   "source": [
    "print(c)"
   ]
  },
  {
   "cell_type": "code",
   "execution_count": 133,
   "metadata": {},
   "outputs": [],
   "source": [
    "import matplotlib.pyplot as plt"
   ]
  },
  {
   "cell_type": "code",
   "execution_count": 134,
   "metadata": {},
   "outputs": [],
   "source": [
    "x = np.array([1,2,3,4,5])"
   ]
  },
  {
   "cell_type": "code",
   "execution_count": 136,
   "metadata": {},
   "outputs": [
    {
     "data": {
      "image/png": "[encoded data removed]",
      "text/plain": [
       "<Figure size 432x288 with 1 Axes>"
      ]
     },
     "metadata": {
      "needs_background": "light"
     },
     "output_type": "display_data"
    }
   ],
   "source": [
    "plt.plot(x)\n",
    "plt.show()"
   ]
  },
  {
   "cell_type": "code",
   "execution_count": 137,
   "metadata": {},
   "outputs": [],
   "source": [
    "y = np.array(x+1)"
   ]
  },
  {
   "cell_type": "code",
   "execution_count": 138,
   "metadata": {},
   "outputs": [
    {
     "name": "stdout",
     "output_type": "stream",
     "text": [
      "[2 3 4 5 6]\n"
     ]
    }
   ],
   "source": [
    "print(y)"
   ]
  },
  {
   "cell_type": "code",
   "execution_count": 139,
   "metadata": {},
   "outputs": [
    {
     "data": {
      "text/plain": [
       "['bmh',\n",
       " 'classic',\n",
       " 'dark_background',\n",
       " 'fast',\n",
       " 'fivethirtyeight',\n",
       " 'ggplot',\n",
       " 'grayscale',\n",
       " 'seaborn-bright',\n",
       " 'seaborn-colorblind',\n",
       " 'seaborn-dark-palette',\n",
       " 'seaborn-dark',\n",
       " 'seaborn-darkgrid',\n",
       " 'seaborn-deep',\n",
       " 'seaborn-muted',\n",
       " 'seaborn-notebook',\n",
       " 'seaborn-paper',\n",
       " 'seaborn-pastel',\n",
       " 'seaborn-poster',\n",
       " 'seaborn-talk',\n",
       " 'seaborn-ticks',\n",
       " 'seaborn-white',\n",
       " 'seaborn-whitegrid',\n",
       " 'seaborn',\n",
       " 'Solarize_Light2',\n",
       " 'tableau-colorblind10',\n",
       " '_classic_test']"
      ]
     },
     "execution_count": 139,
     "metadata": {},
     "output_type": "execute_result"
    }
   ],
   "source": [
    "plt.style.available"
   ]
  },
  {
   "cell_type": "code",
   "execution_count": 166,
   "metadata": {},
   "outputs": [],
   "source": [
    "plt.style.use(\"dark_background\")"
   ]
  },
  {
   "cell_type": "code",
   "execution_count": 170,
   "metadata": {
    "scrolled": false
   },
   "outputs": [
    {
     "data": {
      "text/plain": [
       "Text(0.5, 1.0, 'simplePlot')"
      ]
     },
     "execution_count": 170,
     "metadata": {},
     "output_type": "execute_result"
    },
    {
     "data": {
      "image/png": "[encoded data removed]",
      "text/plain": [
       "<Figure size 640x480 with 1 Axes>"
      ]
     },
     "metadata": {},
     "output_type": "display_data"
    }
   ],
   "source": [
    "plt.plot(x,y)\n",
    "plt.scatter(x,y,color = \"orange\")\n",
    "plt.xlabel(\"x-axis\")\n",
    "plt.ylabel(\"y-axis\")\n",
    "plt.title(\"simplePlot\")"
   ]
  },
  {
   "cell_type": "code",
   "execution_count": 172,
   "metadata": {},
   "outputs": [
    {
     "data": {
      "image/png": "[encoded data removed]",
      "text/plain": [
       "<Figure size 640x480 with 1 Axes>"
      ]
     },
     "metadata": {},
     "output_type": "display_data"
    }
   ],
   "source": [
    "plt.plot(x,x,color = \"orange\",label = \"Linear\")\n",
    "plt.plot(x,x**2,color= \"red\",label = \"polynomial\")\n",
    "plt.xlabel(\"x-axis\")\n",
    "plt.ylabel(\"y-axis\")\n",
    "plt.legend()\n",
    "plt.title(\"ScatterPlot\")\n",
    "plt.show()"
   ]
  },
  {
   "cell_type": "code",
   "execution_count": 173,
   "metadata": {},
   "outputs": [],
   "source": [
    "a = np.random.randint(1,100,(100,2))"
   ]
  },
  {
   "cell_type": "code",
   "execution_count": 174,
   "metadata": {},
   "outputs": [
    {
     "name": "stdout",
     "output_type": "stream",
     "text": [
      "[[42 56]\n",
      " [12 70]\n",
      " [54 64]\n",
      " [83 73]\n",
      " [80 38]\n",
      " [36 75]\n",
      " [57 17]\n",
      " [32  3]\n",
      " [ 3 72]\n",
      " [25 52]\n",
      " [15 18]\n",
      " [ 6  1]\n",
      " [21 25]\n",
      " [94 80]\n",
      " [19 55]\n",
      " [45 72]\n",
      " [39 19]\n",
      " [16 19]\n",
      " [42 99]\n",
      " [50 43]\n",
      " [45 63]\n",
      " [45 28]\n",
      " [58 30]\n",
      " [94 82]\n",
      " [27 72]\n",
      " [53 49]\n",
      " [ 9 51]\n",
      " [75 59]\n",
      " [67 27]\n",
      " [97 66]\n",
      " [83 31]\n",
      " [51 53]\n",
      " [75 10]\n",
      " [57 55]\n",
      " [85 73]\n",
      " [81  9]\n",
      " [43  5]\n",
      " [38 95]\n",
      " [96 69]\n",
      " [56 95]\n",
      " [75 38]\n",
      " [84 28]\n",
      " [82 80]\n",
      " [35 83]\n",
      " [ 1 53]\n",
      " [87 66]\n",
      " [17 67]\n",
      " [52 46]\n",
      " [77  4]\n",
      " [90 75]\n",
      " [38 39]\n",
      " [23 54]\n",
      " [62 43]\n",
      " [ 9  1]\n",
      " [10 56]\n",
      " [25 18]\n",
      " [14 28]\n",
      " [89 67]\n",
      " [45 52]\n",
      " [33 74]\n",
      " [ 5 66]\n",
      " [96 10]\n",
      " [36 31]\n",
      " [58 12]\n",
      " [82 51]\n",
      " [35 51]\n",
      " [29 75]\n",
      " [60 91]\n",
      " [62  7]\n",
      " [90 13]\n",
      " [62 69]\n",
      " [45  7]\n",
      " [24  6]\n",
      " [60 50]\n",
      " [68 46]\n",
      " [ 6 68]\n",
      " [83 57]\n",
      " [85 94]\n",
      " [34 45]\n",
      " [62 19]\n",
      " [25 38]\n",
      " [ 5 51]\n",
      " [54 66]\n",
      " [ 6 46]\n",
      " [14 77]\n",
      " [41 18]\n",
      " [26 15]\n",
      " [53 36]\n",
      " [37 23]\n",
      " [37 86]\n",
      " [57 17]\n",
      " [85 74]\n",
      " [31 84]\n",
      " [50 16]\n",
      " [78  6]\n",
      " [18  5]\n",
      " [31  5]\n",
      " [87 96]\n",
      " [41 89]\n",
      " [60 69]]\n"
     ]
    }
   ],
   "source": [
    "print(a)"
   ]
  },
  {
   "cell_type": "code",
   "execution_count": 181,
   "metadata": {},
   "outputs": [
    {
     "data": {
      "image/png": "[encoded data removed]",
      "text/plain": [
       "<Figure size 640x480 with 1 Axes>"
      ]
     },
     "metadata": {},
     "output_type": "display_data"
    }
   ],
   "source": [
    "plt.scatter(a[:,0],a[:,1],color= \"orange\")\n",
    "plt.show()"
   ]
  },
  {
   "cell_type": "code",
   "execution_count": 182,
   "metadata": {},
   "outputs": [
    {
     "ename": "TypeError",
     "evalue": "scatter() missing 1 required positional argument: 'y'",
     "output_type": "error",
     "traceback": [
      "\u001b[1;31m---------------------------------------------------------------------------\u001b[0m",
      "\u001b[1;31mTypeError\u001b[0m                                 Traceback (most recent call last)",
      "\u001b[1;32m<ipython-input-182-2c059792c5eb>\u001b[0m in \u001b[0;36m<module>\u001b[1;34m\u001b[0m\n\u001b[1;32m----> 1\u001b[1;33m \u001b[0mplt\u001b[0m\u001b[1;33m.\u001b[0m\u001b[0mscatter\u001b[0m\u001b[1;33m(\u001b[0m\u001b[0ma\u001b[0m\u001b[1;33m[\u001b[0m\u001b[1;36m100\u001b[0m\u001b[1;33m:\u001b[0m\u001b[1;36m0\u001b[0m\u001b[1;33m,\u001b[0m\u001b[1;36m100\u001b[0m\u001b[1;33m:\u001b[0m\u001b[1;36m1\u001b[0m\u001b[1;33m]\u001b[0m\u001b[1;33m)\u001b[0m\u001b[1;33m\u001b[0m\u001b[0m\n\u001b[0m",
      "\u001b[1;31mTypeError\u001b[0m: scatter() missing 1 required positional argument: 'y'"
     ]
    }
   ],
   "source": [
    "plt.scatter(a[100:0,100:1])"
   ]
  },
  {
   "cell_type": "code",
   "execution_count": 183,
   "metadata": {},
   "outputs": [
    {
     "ename": "TypeError",
     "evalue": "bar() missing 1 required positional argument: 'height'",
     "output_type": "error",
     "traceback": [
      "\u001b[1;31m---------------------------------------------------------------------------\u001b[0m",
      "\u001b[1;31mTypeError\u001b[0m                                 Traceback (most recent call last)",
      "\u001b[1;32m<ipython-input-183-198c5005cfe7>\u001b[0m in \u001b[0;36m<module>\u001b[1;34m\u001b[0m\n\u001b[1;32m----> 1\u001b[1;33m \u001b[0mplt\u001b[0m\u001b[1;33m.\u001b[0m\u001b[0mbar\u001b[0m\u001b[1;33m(\u001b[0m\u001b[1;33m[\u001b[0m\u001b[1;36m1\u001b[0m\u001b[1;33m,\u001b[0m\u001b[1;36m2\u001b[0m\u001b[1;33m,\u001b[0m\u001b[1;36m4\u001b[0m\u001b[1;33m]\u001b[0m\u001b[1;33m)\u001b[0m\u001b[1;33m\u001b[0m\u001b[0m\n\u001b[0m",
      "\u001b[1;31mTypeError\u001b[0m: bar() missing 1 required positional argument: 'height'"
     ]
    }
   ],
   "source": [
    "plt.bar([1,2,4])"
   ]
  },
  {
   "cell_type": "code",
   "execution_count": 184,
   "metadata": {},
   "outputs": [
    {
     "ename": "TypeError",
     "evalue": "bar() missing 1 required positional argument: 'height'",
     "output_type": "error",
     "traceback": [
      "\u001b[1;31m---------------------------------------------------------------------------\u001b[0m",
      "\u001b[1;31mTypeError\u001b[0m                                 Traceback (most recent call last)",
      "\u001b[1;32m<ipython-input-184-dd18be286b33>\u001b[0m in \u001b[0;36m<module>\u001b[1;34m\u001b[0m\n\u001b[0;32m      1\u001b[0m \u001b[0mx\u001b[0m \u001b[1;33m=\u001b[0m \u001b[1;33m[\u001b[0m\u001b[1;36m1\u001b[0m\u001b[1;33m,\u001b[0m\u001b[1;36m2\u001b[0m\u001b[1;33m,\u001b[0m\u001b[1;36m3\u001b[0m\u001b[1;33m]\u001b[0m\u001b[1;33m\u001b[0m\u001b[0m\n\u001b[1;32m----> 2\u001b[1;33m \u001b[0mplt\u001b[0m\u001b[1;33m.\u001b[0m\u001b[0mbar\u001b[0m\u001b[1;33m(\u001b[0m\u001b[0mx\u001b[0m\u001b[1;33m)\u001b[0m\u001b[1;33m\u001b[0m\u001b[0m\n\u001b[0m",
      "\u001b[1;31mTypeError\u001b[0m: bar() missing 1 required positional argument: 'height'"
     ]
    }
   ],
   "source": [
    "x = [1,2,3]\n",
    "plt.bar(x)"
   ]
  },
  {
   "cell_type": "code",
   "execution_count": 185,
   "metadata": {},
   "outputs": [
    {
     "ename": "TypeError",
     "evalue": "bar() missing 1 required positional argument: 'height'",
     "output_type": "error",
     "traceback": [
      "\u001b[1;31m---------------------------------------------------------------------------\u001b[0m",
      "\u001b[1;31mTypeError\u001b[0m                                 Traceback (most recent call last)",
      "\u001b[1;32m<ipython-input-185-1771409ca427>\u001b[0m in \u001b[0;36m<module>\u001b[1;34m\u001b[0m\n\u001b[1;32m----> 1\u001b[1;33m \u001b[0mplt\u001b[0m\u001b[1;33m.\u001b[0m\u001b[0mbar\u001b[0m\u001b[1;33m(\u001b[0m\u001b[1;33m[\u001b[0m\u001b[1;36m1\u001b[0m\u001b[1;33m,\u001b[0m\u001b[1;36m2\u001b[0m\u001b[1;33m,\u001b[0m\u001b[1;36m4\u001b[0m\u001b[1;33m]\u001b[0m\u001b[1;33m,\u001b[0m\u001b[0mwidth\u001b[0m\u001b[1;33m=\u001b[0m\u001b[1;34m\"0.2\"\u001b[0m\u001b[1;33m)\u001b[0m\u001b[1;33m\u001b[0m\u001b[0m\n\u001b[0m\u001b[0;32m      2\u001b[0m \u001b[0mplt\u001b[0m\u001b[1;33m.\u001b[0m\u001b[0mshow\u001b[0m\u001b[1;33m(\u001b[0m\u001b[1;33m)\u001b[0m\u001b[1;33m\u001b[0m\u001b[0m\n",
      "\u001b[1;31mTypeError\u001b[0m: bar() missing 1 required positional argument: 'height'"
     ]
    }
   ],
   "source": [
    "plt.bar([1,2,4],width=\"0.2\")\n",
    "plt.show()"
   ]
  },
  {
   "cell_type": "code",
   "execution_count": 192,
   "metadata": {},
   "outputs": [
    {
     "data": {
      "text/plain": [
       "<BarContainer object of 3 artists>"
      ]
     },
     "execution_count": 192,
     "metadata": {},
     "output_type": "execute_result"
    },
    {
     "data": {
      "image/png": "[encoded data removed]",
      "text/plain": [
       "<Figure size 640x480 with 1 Axes>"
      ]
     },
     "metadata": {},
     "output_type": "display_data"
    }
   ],
   "source": [
    "plt.bar([1,2,4],[10,20,30],width= 0.1)"
   ]
  },
  {
   "cell_type": "code",
   "execution_count": 199,
   "metadata": {},
   "outputs": [
    {
     "data": {
      "image/png": "[encoded data removed]",
      "text/plain": [
       "<Figure size 640x480 with 1 Axes>"
      ]
     },
     "metadata": {},
     "output_type": "display_data"
    }
   ],
   "source": [
    "plt.bar([1,2,4],[10,20,30],width = 0.1,color= \"red\",label = \"2017\",tick_label=[\"Iron\",\"Cal\",\"potassium\"])\n",
    "plt.bar([1.5,2.9,4.7],[10,25,50],width = 0.1,color=\"blue\",label= \"2018\",tick_label = [\"game1\",\"game2\",\"game3\"])\n",
    "plt.legend()\n",
    "plt.show()"
   ]
  },
  {
   "cell_type": "code",
   "execution_count": 200,
   "metadata": {},
   "outputs": [],
   "source": [
    "import pandas as pd"
   ]
  },
  {
   "cell_type": "code",
   "execution_count": 202,
   "metadata": {},
   "outputs": [],
   "source": [
    "df = pd.read_csv(\"movie_metadata.csv\")"
   ]
  },
  {
   "cell_type": "code",
   "execution_count": 203,
   "metadata": {},
   "outputs": [
    {
     "name": "stdout",
     "output_type": "stream",
     "text": [
      "<class 'pandas.core.frame.DataFrame'>\n"
     ]
    }
   ],
   "source": [
    "print(type(df))"
   ]
  },
  {
   "cell_type": "code",
   "execution_count": 205,
   "metadata": {},
   "outputs": [
    {
     "data": {
      "text/plain": [
       "(5043, 28)"
      ]
     },
     "execution_count": 205,
     "metadata": {},
     "output_type": "execute_result"
    }
   ],
   "source": [
    "df.shape"
   ]
  },
  {
   "cell_type": "code",
   "execution_count": 206,
   "metadata": {},
   "outputs": [
    {
     "data": {
      "text/plain": [
       "Index(['color', 'director_name', 'num_critic_for_reviews', 'duration',\n",
       "       'director_facebook_likes', 'actor_3_facebook_likes', 'actor_2_name',\n",
       "       'actor_1_facebook_likes', 'gross', 'genres', 'actor_1_name',\n",
       "       'movie_title', 'num_voted_users', 'cast_total_facebook_likes',\n",
       "       'actor_3_name', 'facenumber_in_poster', 'plot_keywords',\n",
       "       'movie_imdb_link', 'num_user_for_reviews', 'language', 'country',\n",
       "       'content_rating', 'budget', 'title_year', 'actor_2_facebook_likes',\n",
       "       'imdb_score', 'aspect_ratio', 'movie_facebook_likes'],\n",
       "      dtype='object')"
      ]
     },
     "execution_count": 206,
     "metadata": {},
     "output_type": "execute_result"
    }
   ],
   "source": [
    "df.columns"
   ]
  },
  {
   "cell_type": "code",
   "execution_count": 208,
   "metadata": {},
   "outputs": [
    {
     "data": {
      "text/html": [
       "<div>\n",
       "<style scoped>\n",
       "    .dataframe tbody tr th:only-of-type {\n",
       "        vertical-align: middle;\n",
       "    }\n",
       "\n",
       "    .dataframe tbody tr th {\n",
       "        vertical-align: top;\n",
       "    }\n",
       "\n",
       "    .dataframe thead th {\n",
       "        text-align: right;\n",
       "    }\n",
       "</style>\n",
       "<table border=\"1\" class=\"dataframe\">\n",
       "  <thead>\n",
       "    <tr style=\"text-align: right;\">\n",
       "      <th></th>\n",
       "      <th>color</th>\n",
       "      <th>director_name</th>\n",
       "      <th>num_critic_for_reviews</th>\n",
       "      <th>duration</th>\n",
       "      <th>director_facebook_likes</th>\n",
       "      <th>actor_3_facebook_likes</th>\n",
       "      <th>actor_2_name</th>\n",
       "      <th>actor_1_facebook_likes</th>\n",
       "      <th>gross</th>\n",
       "      <th>genres</th>\n",
       "      <th>...</th>\n",
       "      <th>num_user_for_reviews</th>\n",
       "      <th>language</th>\n",
       "      <th>country</th>\n",
       "      <th>content_rating</th>\n",
       "      <th>budget</th>\n",
       "      <th>title_year</th>\n",
       "      <th>actor_2_facebook_likes</th>\n",
       "      <th>imdb_score</th>\n",
       "      <th>aspect_ratio</th>\n",
       "      <th>movie_facebook_likes</th>\n",
       "    </tr>\n",
       "  </thead>\n",
       "  <tbody>\n",
       "    <tr>\n",
       "      <th>0</th>\n",
       "      <td>Color</td>\n",
       "      <td>James Cameron</td>\n",
       "      <td>723.0</td>\n",
       "      <td>178.0</td>\n",
       "      <td>0.0</td>\n",
       "      <td>855.0</td>\n",
       "      <td>Joel David Moore</td>\n",
       "      <td>1000.0</td>\n",
       "      <td>760505847.0</td>\n",
       "      <td>Action|Adventure|Fantasy|Sci-Fi</td>\n",
       "      <td>...</td>\n",
       "      <td>3054.0</td>\n",
       "      <td>English</td>\n",
       "      <td>USA</td>\n",
       "      <td>PG-13</td>\n",
       "      <td>237000000.0</td>\n",
       "      <td>2009.0</td>\n",
       "      <td>936.0</td>\n",
       "      <td>7.9</td>\n",
       "      <td>1.78</td>\n",
       "      <td>33000</td>\n",
       "    </tr>\n",
       "    <tr>\n",
       "      <th>1</th>\n",
       "      <td>Color</td>\n",
       "      <td>Gore Verbinski</td>\n",
       "      <td>302.0</td>\n",
       "      <td>169.0</td>\n",
       "      <td>563.0</td>\n",
       "      <td>1000.0</td>\n",
       "      <td>Orlando Bloom</td>\n",
       "      <td>40000.0</td>\n",
       "      <td>309404152.0</td>\n",
       "      <td>Action|Adventure|Fantasy</td>\n",
       "      <td>...</td>\n",
       "      <td>1238.0</td>\n",
       "      <td>English</td>\n",
       "      <td>USA</td>\n",
       "      <td>PG-13</td>\n",
       "      <td>300000000.0</td>\n",
       "      <td>2007.0</td>\n",
       "      <td>5000.0</td>\n",
       "      <td>7.1</td>\n",
       "      <td>2.35</td>\n",
       "      <td>0</td>\n",
       "    </tr>\n",
       "    <tr>\n",
       "      <th>2</th>\n",
       "      <td>Color</td>\n",
       "      <td>Sam Mendes</td>\n",
       "      <td>602.0</td>\n",
       "      <td>148.0</td>\n",
       "      <td>0.0</td>\n",
       "      <td>161.0</td>\n",
       "      <td>Rory Kinnear</td>\n",
       "      <td>11000.0</td>\n",
       "      <td>200074175.0</td>\n",
       "      <td>Action|Adventure|Thriller</td>\n",
       "      <td>...</td>\n",
       "      <td>994.0</td>\n",
       "      <td>English</td>\n",
       "      <td>UK</td>\n",
       "      <td>PG-13</td>\n",
       "      <td>245000000.0</td>\n",
       "      <td>2015.0</td>\n",
       "      <td>393.0</td>\n",
       "      <td>6.8</td>\n",
       "      <td>2.35</td>\n",
       "      <td>85000</td>\n",
       "    </tr>\n",
       "    <tr>\n",
       "      <th>3</th>\n",
       "      <td>Color</td>\n",
       "      <td>Christopher Nolan</td>\n",
       "      <td>813.0</td>\n",
       "      <td>164.0</td>\n",
       "      <td>22000.0</td>\n",
       "      <td>23000.0</td>\n",
       "      <td>Christian Bale</td>\n",
       "      <td>27000.0</td>\n",
       "      <td>448130642.0</td>\n",
       "      <td>Action|Thriller</td>\n",
       "      <td>...</td>\n",
       "      <td>2701.0</td>\n",
       "      <td>English</td>\n",
       "      <td>USA</td>\n",
       "      <td>PG-13</td>\n",
       "      <td>250000000.0</td>\n",
       "      <td>2012.0</td>\n",
       "      <td>23000.0</td>\n",
       "      <td>8.5</td>\n",
       "      <td>2.35</td>\n",
       "      <td>164000</td>\n",
       "    </tr>\n",
       "    <tr>\n",
       "      <th>4</th>\n",
       "      <td>NaN</td>\n",
       "      <td>Doug Walker</td>\n",
       "      <td>NaN</td>\n",
       "      <td>NaN</td>\n",
       "      <td>131.0</td>\n",
       "      <td>NaN</td>\n",
       "      <td>Rob Walker</td>\n",
       "      <td>131.0</td>\n",
       "      <td>NaN</td>\n",
       "      <td>Documentary</td>\n",
       "      <td>...</td>\n",
       "      <td>NaN</td>\n",
       "      <td>NaN</td>\n",
       "      <td>NaN</td>\n",
       "      <td>NaN</td>\n",
       "      <td>NaN</td>\n",
       "      <td>NaN</td>\n",
       "      <td>12.0</td>\n",
       "      <td>7.1</td>\n",
       "      <td>NaN</td>\n",
       "      <td>0</td>\n",
       "    </tr>\n",
       "    <tr>\n",
       "      <th>5</th>\n",
       "      <td>Color</td>\n",
       "      <td>Andrew Stanton</td>\n",
       "      <td>462.0</td>\n",
       "      <td>132.0</td>\n",
       "      <td>475.0</td>\n",
       "      <td>530.0</td>\n",
       "      <td>Samantha Morton</td>\n",
       "      <td>640.0</td>\n",
       "      <td>73058679.0</td>\n",
       "      <td>Action|Adventure|Sci-Fi</td>\n",
       "      <td>...</td>\n",
       "      <td>738.0</td>\n",
       "      <td>English</td>\n",
       "      <td>USA</td>\n",
       "      <td>PG-13</td>\n",
       "      <td>263700000.0</td>\n",
       "      <td>2012.0</td>\n",
       "      <td>632.0</td>\n",
       "      <td>6.6</td>\n",
       "      <td>2.35</td>\n",
       "      <td>24000</td>\n",
       "    </tr>\n",
       "    <tr>\n",
       "      <th>6</th>\n",
       "      <td>Color</td>\n",
       "      <td>Sam Raimi</td>\n",
       "      <td>392.0</td>\n",
       "      <td>156.0</td>\n",
       "      <td>0.0</td>\n",
       "      <td>4000.0</td>\n",
       "      <td>James Franco</td>\n",
       "      <td>24000.0</td>\n",
       "      <td>336530303.0</td>\n",
       "      <td>Action|Adventure|Romance</td>\n",
       "      <td>...</td>\n",
       "      <td>1902.0</td>\n",
       "      <td>English</td>\n",
       "      <td>USA</td>\n",
       "      <td>PG-13</td>\n",
       "      <td>258000000.0</td>\n",
       "      <td>2007.0</td>\n",
       "      <td>11000.0</td>\n",
       "      <td>6.2</td>\n",
       "      <td>2.35</td>\n",
       "      <td>0</td>\n",
       "    </tr>\n",
       "    <tr>\n",
       "      <th>7</th>\n",
       "      <td>Color</td>\n",
       "      <td>Nathan Greno</td>\n",
       "      <td>324.0</td>\n",
       "      <td>100.0</td>\n",
       "      <td>15.0</td>\n",
       "      <td>284.0</td>\n",
       "      <td>Donna Murphy</td>\n",
       "      <td>799.0</td>\n",
       "      <td>200807262.0</td>\n",
       "      <td>Adventure|Animation|Comedy|Family|Fantasy|Musi...</td>\n",
       "      <td>...</td>\n",
       "      <td>387.0</td>\n",
       "      <td>English</td>\n",
       "      <td>USA</td>\n",
       "      <td>PG</td>\n",
       "      <td>260000000.0</td>\n",
       "      <td>2010.0</td>\n",
       "      <td>553.0</td>\n",
       "      <td>7.8</td>\n",
       "      <td>1.85</td>\n",
       "      <td>29000</td>\n",
       "    </tr>\n",
       "    <tr>\n",
       "      <th>8</th>\n",
       "      <td>Color</td>\n",
       "      <td>Joss Whedon</td>\n",
       "      <td>635.0</td>\n",
       "      <td>141.0</td>\n",
       "      <td>0.0</td>\n",
       "      <td>19000.0</td>\n",
       "      <td>Robert Downey Jr.</td>\n",
       "      <td>26000.0</td>\n",
       "      <td>458991599.0</td>\n",
       "      <td>Action|Adventure|Sci-Fi</td>\n",
       "      <td>...</td>\n",
       "      <td>1117.0</td>\n",
       "      <td>English</td>\n",
       "      <td>USA</td>\n",
       "      <td>PG-13</td>\n",
       "      <td>250000000.0</td>\n",
       "      <td>2015.0</td>\n",
       "      <td>21000.0</td>\n",
       "      <td>7.5</td>\n",
       "      <td>2.35</td>\n",
       "      <td>118000</td>\n",
       "    </tr>\n",
       "    <tr>\n",
       "      <th>9</th>\n",
       "      <td>Color</td>\n",
       "      <td>David Yates</td>\n",
       "      <td>375.0</td>\n",
       "      <td>153.0</td>\n",
       "      <td>282.0</td>\n",
       "      <td>10000.0</td>\n",
       "      <td>Daniel Radcliffe</td>\n",
       "      <td>25000.0</td>\n",
       "      <td>301956980.0</td>\n",
       "      <td>Adventure|Family|Fantasy|Mystery</td>\n",
       "      <td>...</td>\n",
       "      <td>973.0</td>\n",
       "      <td>English</td>\n",
       "      <td>UK</td>\n",
       "      <td>PG</td>\n",
       "      <td>250000000.0</td>\n",
       "      <td>2009.0</td>\n",
       "      <td>11000.0</td>\n",
       "      <td>7.5</td>\n",
       "      <td>2.35</td>\n",
       "      <td>10000</td>\n",
       "    </tr>\n",
       "    <tr>\n",
       "      <th>10</th>\n",
       "      <td>Color</td>\n",
       "      <td>Zack Snyder</td>\n",
       "      <td>673.0</td>\n",
       "      <td>183.0</td>\n",
       "      <td>0.0</td>\n",
       "      <td>2000.0</td>\n",
       "      <td>Lauren Cohan</td>\n",
       "      <td>15000.0</td>\n",
       "      <td>330249062.0</td>\n",
       "      <td>Action|Adventure|Sci-Fi</td>\n",
       "      <td>...</td>\n",
       "      <td>3018.0</td>\n",
       "      <td>English</td>\n",
       "      <td>USA</td>\n",
       "      <td>PG-13</td>\n",
       "      <td>250000000.0</td>\n",
       "      <td>2016.0</td>\n",
       "      <td>4000.0</td>\n",
       "      <td>6.9</td>\n",
       "      <td>2.35</td>\n",
       "      <td>197000</td>\n",
       "    </tr>\n",
       "  </tbody>\n",
       "</table>\n",
       "<p>11 rows × 28 columns</p>\n",
       "</div>"
      ],
      "text/plain": [
       "    color      director_name  num_critic_for_reviews  duration  \\\n",
       "0   Color      James Cameron                   723.0     178.0   \n",
       "1   Color     Gore Verbinski                   302.0     169.0   \n",
       "2   Color         Sam Mendes                   602.0     148.0   \n",
       "3   Color  Christopher Nolan                   813.0     164.0   \n",
       "4     NaN        Doug Walker                     NaN       NaN   \n",
       "5   Color     Andrew Stanton                   462.0     132.0   \n",
       "6   Color          Sam Raimi                   392.0     156.0   \n",
       "7   Color       Nathan Greno                   324.0     100.0   \n",
       "8   Color        Joss Whedon                   635.0     141.0   \n",
       "9   Color        David Yates                   375.0     153.0   \n",
       "10  Color        Zack Snyder                   673.0     183.0   \n",
       "\n",
       "    director_facebook_likes  actor_3_facebook_likes       actor_2_name  \\\n",
       "0                       0.0                   855.0   Joel David Moore   \n",
       "1                     563.0                  1000.0      Orlando Bloom   \n",
       "2                       0.0                   161.0       Rory Kinnear   \n",
       "3                   22000.0                 23000.0     Christian Bale   \n",
       "4                     131.0                     NaN         Rob Walker   \n",
       "5                     475.0                   530.0    Samantha Morton   \n",
       "6                       0.0                  4000.0       James Franco   \n",
       "7                      15.0                   284.0       Donna Murphy   \n",
       "8                       0.0                 19000.0  Robert Downey Jr.   \n",
       "9                     282.0                 10000.0   Daniel Radcliffe   \n",
       "10                      0.0                  2000.0       Lauren Cohan   \n",
       "\n",
       "    actor_1_facebook_likes        gross  \\\n",
       "0                   1000.0  760505847.0   \n",
       "1                  40000.0  309404152.0   \n",
       "2                  11000.0  200074175.0   \n",
       "3                  27000.0  448130642.0   \n",
       "4                    131.0          NaN   \n",
       "5                    640.0   73058679.0   \n",
       "6                  24000.0  336530303.0   \n",
       "7                    799.0  200807262.0   \n",
       "8                  26000.0  458991599.0   \n",
       "9                  25000.0  301956980.0   \n",
       "10                 15000.0  330249062.0   \n",
       "\n",
       "                                               genres  ...  \\\n",
       "0                     Action|Adventure|Fantasy|Sci-Fi  ...   \n",
       "1                            Action|Adventure|Fantasy  ...   \n",
       "2                           Action|Adventure|Thriller  ...   \n",
       "3                                     Action|Thriller  ...   \n",
       "4                                         Documentary  ...   \n",
       "5                             Action|Adventure|Sci-Fi  ...   \n",
       "6                            Action|Adventure|Romance  ...   \n",
       "7   Adventure|Animation|Comedy|Family|Fantasy|Musi...  ...   \n",
       "8                             Action|Adventure|Sci-Fi  ...   \n",
       "9                    Adventure|Family|Fantasy|Mystery  ...   \n",
       "10                            Action|Adventure|Sci-Fi  ...   \n",
       "\n",
       "   num_user_for_reviews language  country  content_rating       budget  \\\n",
       "0                3054.0  English      USA           PG-13  237000000.0   \n",
       "1                1238.0  English      USA           PG-13  300000000.0   \n",
       "2                 994.0  English       UK           PG-13  245000000.0   \n",
       "3                2701.0  English      USA           PG-13  250000000.0   \n",
       "4                   NaN      NaN      NaN             NaN          NaN   \n",
       "5                 738.0  English      USA           PG-13  263700000.0   \n",
       "6                1902.0  English      USA           PG-13  258000000.0   \n",
       "7                 387.0  English      USA              PG  260000000.0   \n",
       "8                1117.0  English      USA           PG-13  250000000.0   \n",
       "9                 973.0  English       UK              PG  250000000.0   \n",
       "10               3018.0  English      USA           PG-13  250000000.0   \n",
       "\n",
       "    title_year actor_2_facebook_likes imdb_score  aspect_ratio  \\\n",
       "0       2009.0                  936.0        7.9          1.78   \n",
       "1       2007.0                 5000.0        7.1          2.35   \n",
       "2       2015.0                  393.0        6.8          2.35   \n",
       "3       2012.0                23000.0        8.5          2.35   \n",
       "4          NaN                   12.0        7.1           NaN   \n",
       "5       2012.0                  632.0        6.6          2.35   \n",
       "6       2007.0                11000.0        6.2          2.35   \n",
       "7       2010.0                  553.0        7.8          1.85   \n",
       "8       2015.0                21000.0        7.5          2.35   \n",
       "9       2009.0                11000.0        7.5          2.35   \n",
       "10      2016.0                 4000.0        6.9          2.35   \n",
       "\n",
       "   movie_facebook_likes  \n",
       "0                 33000  \n",
       "1                     0  \n",
       "2                 85000  \n",
       "3                164000  \n",
       "4                     0  \n",
       "5                 24000  \n",
       "6                     0  \n",
       "7                 29000  \n",
       "8                118000  \n",
       "9                 10000  \n",
       "10               197000  \n",
       "\n",
       "[11 rows x 28 columns]"
      ]
     },
     "execution_count": 208,
     "metadata": {},
     "output_type": "execute_result"
    }
   ],
   "source": [
    "df.head(n=11)"
   ]
  },
  {
   "cell_type": "code",
   "execution_count": 211,
   "metadata": {},
   "outputs": [],
   "source": [
    "dir_names = np.array(df['director_name'])[:11]"
   ]
  },
  {
   "cell_type": "code",
   "execution_count": 212,
   "metadata": {},
   "outputs": [
    {
     "name": "stdout",
     "output_type": "stream",
     "text": [
      "['James Cameron' 'Gore Verbinski' 'Sam Mendes' 'Christopher Nolan'\n",
      " 'Doug Walker' 'Andrew Stanton' 'Sam Raimi' 'Nathan Greno' 'Joss Whedon'\n",
      " 'David Yates' 'Zack Snyder']\n"
     ]
    }
   ],
   "source": [
    "print(dir_names)"
   ]
  },
  {
   "cell_type": "code",
   "execution_count": 213,
   "metadata": {},
   "outputs": [],
   "source": [
    "dir_likes = np.array(df['director_facebook_likes'])[:11]"
   ]
  },
  {
   "cell_type": "code",
   "execution_count": 214,
   "metadata": {},
   "outputs": [
    {
     "name": "stdout",
     "output_type": "stream",
     "text": [
      "[0.00e+00 5.63e+02 0.00e+00 2.20e+04 1.31e+02 4.75e+02 0.00e+00 1.50e+01\n",
      " 0.00e+00 2.82e+02 0.00e+00]\n"
     ]
    }
   ],
   "source": [
    "print(dir_likes)"
   ]
  },
  {
   "cell_type": "code",
   "execution_count": 220,
   "metadata": {},
   "outputs": [
    {
     "data": {
      "image/png": "[encoded data removed]",
      "text/plain": [
       "<Figure size 1600x1600 with 1 Axes>"
      ]
     },
     "metadata": {},
     "output_type": "display_data"
    }
   ],
   "source": [
    "plt.figure(figsize=(20,20))\n",
    "plt.bar(dir_names,dir_likes,width=0.4,color=\"blue\")\n",
    "plt.show()"
   ]
  },
  {
   "cell_type": "code",
   "execution_count": 28,
   "metadata": {},
   "outputs": [],
   "source": [
    "a = np.array([[1,2,3],[4,5,6],[7,8,9]])"
   ]
  },
  {
   "cell_type": "code",
   "execution_count": 29,
   "metadata": {},
   "outputs": [
    {
     "ename": "TypeError",
     "evalue": "'tuple' object is not callable",
     "output_type": "error",
     "traceback": [
      "\u001b[1;31m---------------------------------------------------------------------------\u001b[0m",
      "\u001b[1;31mTypeError\u001b[0m                                 Traceback (most recent call last)",
      "\u001b[1;32m<ipython-input-29-2955bfce3442>\u001b[0m in \u001b[0;36m<module>\u001b[1;34m\u001b[0m\n\u001b[1;32m----> 1\u001b[1;33m \u001b[0ma\u001b[0m\u001b[1;33m.\u001b[0m\u001b[0mshape\u001b[0m\u001b[1;33m(\u001b[0m\u001b[1;33m)\u001b[0m\u001b[1;33m\u001b[0m\u001b[0m\n\u001b[0m",
      "\u001b[1;31mTypeError\u001b[0m: 'tuple' object is not callable"
     ]
    }
   ],
   "source": [
    "a.shape()"
   ]
  },
  {
   "cell_type": "code",
   "execution_count": 30,
   "metadata": {},
   "outputs": [
    {
     "name": "stdout",
     "output_type": "stream",
     "text": [
      "(3, 3)\n"
     ]
    }
   ],
   "source": [
    "print(a.shape)"
   ]
  },
  {
   "cell_type": "code",
   "execution_count": 31,
   "metadata": {},
   "outputs": [
    {
     "name": "stdout",
     "output_type": "stream",
     "text": [
      "[[1 2 3]\n",
      " [4 5 6]\n",
      " [7 8 9]]\n"
     ]
    }
   ],
   "source": [
    "print(a)"
   ]
  },
  {
   "cell_type": "code",
   "execution_count": 32,
   "metadata": {},
   "outputs": [],
   "source": [
    "a[0:1,0:2] = 10"
   ]
  },
  {
   "cell_type": "code",
   "execution_count": 33,
   "metadata": {},
   "outputs": [
    {
     "name": "stdout",
     "output_type": "stream",
     "text": [
      "[[10 10  3]\n",
      " [ 4  5  6]\n",
      " [ 7  8  9]]\n"
     ]
    }
   ],
   "source": [
    "print(a)"
   ]
  },
  {
   "cell_type": "code",
   "execution_count": 34,
   "metadata": {},
   "outputs": [
    {
     "name": "stdout",
     "output_type": "stream",
     "text": [
      "<class 'numpy.ndarray'>\n"
     ]
    }
   ],
   "source": [
    "print(type(a))"
   ]
  },
  {
   "cell_type": "code",
   "execution_count": 35,
   "metadata": {},
   "outputs": [],
   "source": [
    "six = np.eye(4,dtype = 'int32')"
   ]
  },
  {
   "cell_type": "code",
   "execution_count": 36,
   "metadata": {},
   "outputs": [
    {
     "name": "stdout",
     "output_type": "stream",
     "text": [
      "[[1 0 0 0]\n",
      " [0 1 0 0]\n",
      " [0 0 1 0]\n",
      " [0 0 0 1]]\n"
     ]
    }
   ],
   "source": [
    "print(six)"
   ]
  },
  {
   "cell_type": "code",
   "execution_count": 37,
   "metadata": {},
   "outputs": [],
   "source": [
    "six = 4*np.eye(5,dtype = 'int32')"
   ]
  },
  {
   "cell_type": "code",
   "execution_count": 38,
   "metadata": {},
   "outputs": [
    {
     "name": "stdout",
     "output_type": "stream",
     "text": [
      "[[4 0 0 0 0]\n",
      " [0 4 0 0 0]\n",
      " [0 0 4 0 0]\n",
      " [0 0 0 4 0]\n",
      " [0 0 0 0 4]]\n"
     ]
    }
   ],
   "source": [
    "print(six)"
   ]
  },
  {
   "cell_type": "code",
   "execution_count": 39,
   "metadata": {},
   "outputs": [
    {
     "name": "stdout",
     "output_type": "stream",
     "text": [
      "[11 14 17 11 12]\n"
     ]
    }
   ],
   "source": [
    "a = np.random.randint(10,20,(5,))\n",
    "print(a)"
   ]
  },
  {
   "cell_type": "code",
   "execution_count": 40,
   "metadata": {},
   "outputs": [],
   "source": [
    "a = np.random.randint(10,20,(5,1))"
   ]
  },
  {
   "cell_type": "code",
   "execution_count": 41,
   "metadata": {},
   "outputs": [
    {
     "name": "stdout",
     "output_type": "stream",
     "text": [
      "[[15]\n",
      " [18]\n",
      " [18]\n",
      " [14]\n",
      " [18]]\n"
     ]
    }
   ],
   "source": [
    "print(a)"
   ]
  },
  {
   "cell_type": "code",
   "execution_count": 44,
   "metadata": {},
   "outputs": [],
   "source": [
    " a = np.random.randint(10,20,(4,5,6)) #Noof times, row , column"
   ]
  },
  {
   "cell_type": "code",
   "execution_count": 45,
   "metadata": {},
   "outputs": [
    {
     "name": "stdout",
     "output_type": "stream",
     "text": [
      "[[[13 13 16 12 11 11]\n",
      "  [13 15 16 12 11 11]\n",
      "  [19 14 15 11 16 18]\n",
      "  [12 18 12 14 15 12]\n",
      "  [10 19 16 13 19 11]]\n",
      "\n",
      " [[11 15 13 16 18 14]\n",
      "  [18 13 12 15 15 18]\n",
      "  [14 18 13 18 15 12]\n",
      "  [18 10 17 17 18 10]\n",
      "  [14 16 16 19 11 18]]\n",
      "\n",
      " [[15 19 14 12 14 12]\n",
      "  [11 10 16 12 11 12]\n",
      "  [10 18 10 11 13 19]\n",
      "  [16 15 19 11 19 16]\n",
      "  [15 19 19 18 18 11]]\n",
      "\n",
      " [[18 16 19 12 12 12]\n",
      "  [12 13 13 10 10 17]\n",
      "  [19 19 14 15 14 14]\n",
      "  [16 13 15 12 10 15]\n",
      "  [10 16 17 11 19 14]]]\n"
     ]
    }
   ],
   "source": [
    "print(a)"
   ]
  },
  {
   "cell_type": "code",
   "execution_count": 46,
   "metadata": {},
   "outputs": [],
   "source": [
    "b = np.random.randint(10,20,(5,6))\n",
    "a = np.random.randint(10,20,(5,6))"
   ]
  },
  {
   "cell_type": "code",
   "execution_count": 49,
   "metadata": {},
   "outputs": [
    {
     "name": "stdout",
     "output_type": "stream",
     "text": [
      "[[18 16 15 13 17 10]\n",
      " [16 18 10 16 12 13]\n",
      " [18 14 19 19 19 16]\n",
      " [11 15 16 11 12 11]\n",
      " [11 11 18 17 11 12]] \n",
      "\n",
      "[[14 17 14 10 11 13]\n",
      " [18 17 12 13 13 19]\n",
      " [13 16 10 12 11 11]\n",
      " [15 15 12 16 14 17]\n",
      " [16 12 10 13 11 18]]\n"
     ]
    }
   ],
   "source": [
    "print(a,\"\\n\")\n",
    "print(b)"
   ]
  },
  {
   "cell_type": "code",
   "execution_count": 50,
   "metadata": {},
   "outputs": [
    {
     "data": {
      "text/plain": [
       "array([[ 4, -1,  1,  3,  6, -3],\n",
       "       [-2,  1, -2,  3, -1, -6],\n",
       "       [ 5, -2,  9,  7,  8,  5],\n",
       "       [-4,  0,  4, -5, -2, -6],\n",
       "       [-5, -1,  8,  4,  0, -6]])"
      ]
     },
     "execution_count": 50,
     "metadata": {},
     "output_type": "execute_result"
    }
   ],
   "source": [
    "a - b"
   ]
  },
  {
   "cell_type": "code",
   "execution_count": 51,
   "metadata": {},
   "outputs": [
    {
     "data": {
      "text/plain": [
       "array([[32, 33, 29, 23, 28, 23],\n",
       "       [34, 35, 22, 29, 25, 32],\n",
       "       [31, 30, 29, 31, 30, 27],\n",
       "       [26, 30, 28, 27, 26, 28],\n",
       "       [27, 23, 28, 30, 22, 30]])"
      ]
     },
     "execution_count": 51,
     "metadata": {},
     "output_type": "execute_result"
    }
   ],
   "source": [
    "a + b"
   ]
  },
  {
   "cell_type": "code",
   "execution_count": 52,
   "metadata": {},
   "outputs": [
    {
     "data": {
      "text/plain": [
       "array([[324, 256, 225, 169, 289, 100],\n",
       "       [256, 324, 100, 256, 144, 169],\n",
       "       [324, 196, 361, 361, 361, 256],\n",
       "       [121, 225, 256, 121, 144, 121],\n",
       "       [121, 121, 324, 289, 121, 144]], dtype=int32)"
      ]
     },
     "execution_count": 52,
     "metadata": {},
     "output_type": "execute_result"
    }
   ],
   "source": [
    "a ** 2"
   ]
  },
  {
   "cell_type": "code",
   "execution_count": 56,
   "metadata": {},
   "outputs": [
    {
     "name": "stdout",
     "output_type": "stream",
     "text": [
      "[[18 16 15 13 17 10]\n",
      " [16 18 10 16 12 13]\n",
      " [18 14 19 19 19 16]\n",
      " [11 15 16 11 12 11]\n",
      " [11 11 18 17 11 12]]\n"
     ]
    }
   ],
   "source": [
    "c = np.array(a)\n",
    "print(c)"
   ]
  },
  {
   "cell_type": "code",
   "execution_count": 59,
   "metadata": {},
   "outputs": [
    {
     "name": "stdout",
     "output_type": "stream",
     "text": [
      "[[18 16 15 13 17 10]\n",
      " [16 18 10 16 12 13]\n",
      " [18 14 19 19 19 16]\n",
      " [11 15 16 11 12 11]\n",
      " [11 11 18 17 11 12]\n",
      " [14 17 14 10 11 13]\n",
      " [18 17 12 13 13 19]\n",
      " [13 16 10 12 11 11]\n",
      " [15 15 12 16 14 17]\n",
      " [16 12 10 13 11 18]]\n"
     ]
    }
   ],
   "source": [
    "c = np.vstack((a,b))\n",
    "print(c)"
   ]
  },
  {
   "cell_type": "code",
   "execution_count": 60,
   "metadata": {},
   "outputs": [
    {
     "name": "stdout",
     "output_type": "stream",
     "text": [
      "[[18 16 15 13 17 10 14 17 14 10 11 13]\n",
      " [16 18 10 16 12 13 18 17 12 13 13 19]\n",
      " [18 14 19 19 19 16 13 16 10 12 11 11]\n",
      " [11 15 16 11 12 11 15 15 12 16 14 17]\n",
      " [11 11 18 17 11 12 16 12 10 13 11 18]]\n"
     ]
    }
   ],
   "source": [
    "c = np.hstack((a,b))\n",
    "print(c)"
   ]
  },
  {
   "cell_type": "code",
   "execution_count": 61,
   "metadata": {},
   "outputs": [],
   "source": [
    "x = np.array([1,2,3])"
   ]
  },
  {
   "cell_type": "code",
   "execution_count": 62,
   "metadata": {},
   "outputs": [],
   "source": [
    "import matplotlib.pyplot as plt"
   ]
  },
  {
   "cell_type": "code",
   "execution_count": 63,
   "metadata": {},
   "outputs": [
    {
     "data": {
      "text/plain": [
       "[<matplotlib.lines.Line2D at 0x105e6030>]"
      ]
     },
     "execution_count": 63,
     "metadata": {},
     "output_type": "execute_result"
    },
    {
     "data": {
      "image/png": "[encoded data removed]",
      "text/plain": [
       "<Figure size 432x288 with 1 Axes>"
      ]
     },
     "metadata": {
      "needs_background": "light"
     },
     "output_type": "display_data"
    }
   ],
   "source": [
    "plt.plot(x)"
   ]
  },
  {
   "cell_type": "code",
   "execution_count": 64,
   "metadata": {},
   "outputs": [
    {
     "data": {
      "image/png": "[encoded data removed]",
      "text/plain": [
       "<Figure size 432x288 with 1 Axes>"
      ]
     },
     "metadata": {
      "needs_background": "light"
     },
     "output_type": "display_data"
    }
   ],
   "source": [
    "plt.plot(x)\n",
    "plt.scatter(x,x**2,color = 'orange')\n",
    "plt.show()"
   ]
  },
  {
   "cell_type": "code",
   "execution_count": 65,
   "metadata": {},
   "outputs": [
    {
     "data": {
      "text/plain": [
       "['bmh',\n",
       " 'classic',\n",
       " 'dark_background',\n",
       " 'fast',\n",
       " 'fivethirtyeight',\n",
       " 'ggplot',\n",
       " 'grayscale',\n",
       " 'seaborn-bright',\n",
       " 'seaborn-colorblind',\n",
       " 'seaborn-dark-palette',\n",
       " 'seaborn-dark',\n",
       " 'seaborn-darkgrid',\n",
       " 'seaborn-deep',\n",
       " 'seaborn-muted',\n",
       " 'seaborn-notebook',\n",
       " 'seaborn-paper',\n",
       " 'seaborn-pastel',\n",
       " 'seaborn-poster',\n",
       " 'seaborn-talk',\n",
       " 'seaborn-ticks',\n",
       " 'seaborn-white',\n",
       " 'seaborn-whitegrid',\n",
       " 'seaborn',\n",
       " 'Solarize_Light2',\n",
       " 'tableau-colorblind10',\n",
       " '_classic_test']"
      ]
     },
     "execution_count": 65,
     "metadata": {},
     "output_type": "execute_result"
    }
   ],
   "source": [
    "plt.style.available"
   ]
  },
  {
   "cell_type": "code",
   "execution_count": 66,
   "metadata": {},
   "outputs": [],
   "source": [
    "plt.style.use('dark_background')"
   ]
  },
  {
   "cell_type": "code",
   "execution_count": 100,
   "metadata": {},
   "outputs": [
    {
     "data": {
      "text/plain": [
       "[<matplotlib.lines.Line2D at 0x15042b70>,\n",
       " <matplotlib.lines.Line2D at 0x15042cb0>]"
      ]
     },
     "execution_count": 100,
     "metadata": {},
     "output_type": "execute_result"
    },
    {
     "data": {
      "image/png": "[encoded data removed]",
      "text/plain": [
       "<Figure size 432x288 with 1 Axes>"
      ]
     },
     "metadata": {},
     "output_type": "display_data"
    }
   ],
   "source": [
    "plt.plot(x)"
   ]
  },
  {
   "cell_type": "code",
   "execution_count": 101,
   "metadata": {},
   "outputs": [
    {
     "data": {
      "image/png": "[encoded data removed]",
      "text/plain": [
       "<Figure size 360x360 with 1 Axes>"
      ]
     },
     "metadata": {},
     "output_type": "display_data"
    }
   ],
   "source": [
    "plt.figure(figsize=(5,5))\n",
    "plt.plot(x,x,color='orange',label=\"Linear\")\n",
    "plt.plot(x,x**2,color='red',label=\"Polynomial\")\n",
    "plt.xlabel(\"X-Axis\")\n",
    "plt.ylabel(\"Price\")\n",
    "plt.legend()\n",
    "plt.title(\"Scatter Plot\")\n",
    "plt.show()"
   ]
  },
  {
   "cell_type": "code",
   "execution_count": 102,
   "metadata": {},
   "outputs": [],
   "source": [
    "x = np.random.randint(0,100,(100,2))"
   ]
  },
  {
   "cell_type": "code",
   "execution_count": 103,
   "metadata": {},
   "outputs": [
    {
     "name": "stdout",
     "output_type": "stream",
     "text": [
      "[[43  7]\n",
      " [84 46]\n",
      " [61 53]\n",
      " [66 80]\n",
      " [85 89]\n",
      " [85 68]\n",
      " [16 73]\n",
      " [60 53]\n",
      " [ 6 79]\n",
      " [46 79]\n",
      " [95 76]\n",
      " [46 26]\n",
      " [34 16]\n",
      " [31 21]\n",
      " [12 15]\n",
      " [29 14]\n",
      " [21 51]\n",
      " [64 93]\n",
      " [23 53]\n",
      " [69 95]\n",
      " [24 26]\n",
      " [36 52]\n",
      " [16 74]\n",
      " [80 11]\n",
      " [ 0 96]\n",
      " [ 2 65]\n",
      " [17  2]\n",
      " [98 33]\n",
      " [30 26]\n",
      " [93 18]\n",
      " [ 9 54]\n",
      " [19 44]\n",
      " [77 96]\n",
      " [26 42]\n",
      " [23  6]\n",
      " [83 49]\n",
      " [ 4 74]\n",
      " [97 55]\n",
      " [ 2 71]\n",
      " [38 21]\n",
      " [47 90]\n",
      " [ 9 90]\n",
      " [49 87]\n",
      " [34 87]\n",
      " [ 9 53]\n",
      " [62 94]\n",
      " [38 95]\n",
      " [60 97]\n",
      " [55 27]\n",
      " [71 90]\n",
      " [55 73]\n",
      " [15 29]\n",
      " [82 30]\n",
      " [36 40]\n",
      " [30 82]\n",
      " [ 2 55]\n",
      " [48 97]\n",
      " [21 54]\n",
      " [15 47]\n",
      " [84 91]\n",
      " [ 5 94]\n",
      " [20 54]\n",
      " [24 47]\n",
      " [95 85]\n",
      " [26 42]\n",
      " [68 80]\n",
      " [37 26]\n",
      " [92 97]\n",
      " [86  1]\n",
      " [13 93]\n",
      " [32 23]\n",
      " [94 63]\n",
      " [81 70]\n",
      " [36 59]\n",
      " [69 79]\n",
      " [56 93]\n",
      " [83 75]\n",
      " [21 47]\n",
      " [72 53]\n",
      " [47 27]\n",
      " [48 25]\n",
      " [96 50]\n",
      " [15 78]\n",
      " [ 0 66]\n",
      " [15  8]\n",
      " [29  9]\n",
      " [98 21]\n",
      " [32 39]\n",
      " [25 98]\n",
      " [47 47]\n",
      " [ 7 48]\n",
      " [34 53]\n",
      " [61 36]\n",
      " [20 42]\n",
      " [38 60]\n",
      " [81 85]\n",
      " [29 36]\n",
      " [70 94]\n",
      " [83 60]\n",
      " [97  3]]\n"
     ]
    }
   ],
   "source": [
    "print(x)"
   ]
  },
  {
   "cell_type": "code",
   "execution_count": 104,
   "metadata": {},
   "outputs": [
    {
     "data": {
      "image/png": "[encoded data removed]",
      "text/plain": [
       "<Figure size 432x288 with 1 Axes>"
      ]
     },
     "metadata": {},
     "output_type": "display_data"
    }
   ],
   "source": [
    "plt.scatter(x[:,0],x[:,1],color='blue')\n",
    "plt.show()"
   ]
  },
  {
   "cell_type": "code",
   "execution_count": 82,
   "metadata": {},
   "outputs": [
    {
     "data": {
      "image/png": "[encoded data removed]",
      "text/plain": [
       "<Figure size 432x288 with 1 Axes>"
      ]
     },
     "metadata": {},
     "output_type": "display_data"
    }
   ],
   "source": [
    "plt.bar([13,20,30],[7,2,3],label = '2018',color = 'red',tick_label = [\"s2\",\"s1\",\"s3\"]) # bar graph first plt.bar([x-axis(width)],[y-axis(height)])\n",
    "plt.bar([28,10,15],[10,20,30],tick_label = [\"s1\",\"s2\",\"s3\"],label = '2019',color = 'blue')\n",
    "plt.legend()\n",
    "plt.show()"
   ]
  },
  {
   "cell_type": "code",
   "execution_count": 5,
   "metadata": {},
   "outputs": [],
   "source": [
    "import pandas as pd"
   ]
  },
  {
   "cell_type": "code",
   "execution_count": 6,
   "metadata": {},
   "outputs": [],
   "source": [
    "df = pd.read_csv('movie_metadata.csv')"
   ]
  },
  {
   "cell_type": "code",
   "execution_count": 7,
   "metadata": {},
   "outputs": [
    {
     "name": "stdout",
     "output_type": "stream",
     "text": [
      "                 color       director_name  num_critic_for_reviews  duration  \\\n",
      "0                Color       James Cameron                   723.0     178.0   \n",
      "1                Color      Gore Verbinski                   302.0     169.0   \n",
      "2                Color          Sam Mendes                   602.0     148.0   \n",
      "3                Color   Christopher Nolan                   813.0     164.0   \n",
      "4                  NaN         Doug Walker                     NaN       NaN   \n",
      "5                Color      Andrew Stanton                   462.0     132.0   \n",
      "6                Color           Sam Raimi                   392.0     156.0   \n",
      "7                Color        Nathan Greno                   324.0     100.0   \n",
      "8                Color         Joss Whedon                   635.0     141.0   \n",
      "9                Color         David Yates                   375.0     153.0   \n",
      "10               Color         Zack Snyder                   673.0     183.0   \n",
      "11               Color        Bryan Singer                   434.0     169.0   \n",
      "12               Color        Marc Forster                   403.0     106.0   \n",
      "13               Color      Gore Verbinski                   313.0     151.0   \n",
      "14               Color      Gore Verbinski                   450.0     150.0   \n",
      "15               Color         Zack Snyder                   733.0     143.0   \n",
      "16               Color      Andrew Adamson                   258.0     150.0   \n",
      "17               Color         Joss Whedon                   703.0     173.0   \n",
      "18               Color        Rob Marshall                   448.0     136.0   \n",
      "19               Color    Barry Sonnenfeld                   451.0     106.0   \n",
      "20               Color       Peter Jackson                   422.0     164.0   \n",
      "21               Color           Marc Webb                   599.0     153.0   \n",
      "22               Color        Ridley Scott                   343.0     156.0   \n",
      "23               Color       Peter Jackson                   509.0     186.0   \n",
      "24               Color         Chris Weitz                   251.0     113.0   \n",
      "25               Color       Peter Jackson                   446.0     201.0   \n",
      "26               Color       James Cameron                   315.0     194.0   \n",
      "27               Color       Anthony Russo                   516.0     147.0   \n",
      "28               Color          Peter Berg                   377.0     131.0   \n",
      "29               Color     Colin Trevorrow                   644.0     124.0   \n",
      "...                ...                 ...                     ...       ...   \n",
      "5013             Color          Eric Eason                    28.0      79.0   \n",
      "5014             Color            Uwe Boll                    58.0      80.0   \n",
      "5015   Black and White   Richard Linklater                    61.0     100.0   \n",
      "5016             Color     Joseph Mazzella                     NaN      90.0   \n",
      "5017             Color        Travis Legge                     1.0      90.0   \n",
      "5018             Color       Alex Kendrick                     5.0     120.0   \n",
      "5019             Color       Marcus Nispel                    43.0      91.0   \n",
      "5020               NaN     Brandon Landers                     NaN     143.0   \n",
      "5021             Color         Jay Duplass                    51.0      85.0   \n",
      "5022   Black and White          Jim Chuchu                     6.0      60.0   \n",
      "5023             Color          Daryl Wein                    22.0      88.0   \n",
      "5024             Color         Jason Trost                    42.0      78.0   \n",
      "5025             Color         John Waters                    73.0     108.0   \n",
      "5026             Color     Olivier Assayas                    81.0     110.0   \n",
      "5027             Color        Jafar Panahi                    64.0      90.0   \n",
      "5028   Black and White       Ivan Kavanagh                    12.0      83.0   \n",
      "5029             Color    Kiyoshi Kurosawa                    78.0     111.0   \n",
      "5030             Color        Tadeo Garcia                     NaN      84.0   \n",
      "5031             Color  Thomas L. Phillips                    13.0      82.0   \n",
      "5032             Color     Ash Baron-Cohen                    10.0      98.0   \n",
      "5033             Color       Shane Carruth                   143.0      77.0   \n",
      "5034             Color    Neill Dela Llana                    35.0      80.0   \n",
      "5035             Color    Robert Rodriguez                    56.0      81.0   \n",
      "5036             Color     Anthony Vallone                     NaN      84.0   \n",
      "5037             Color        Edward Burns                    14.0      95.0   \n",
      "5038             Color         Scott Smith                     1.0      87.0   \n",
      "5039             Color                 NaN                    43.0      43.0   \n",
      "5040             Color    Benjamin Roberds                    13.0      76.0   \n",
      "5041             Color         Daniel Hsia                    14.0     100.0   \n",
      "5042             Color            Jon Gunn                    43.0      90.0   \n",
      "\n",
      "      director_facebook_likes  actor_3_facebook_likes          actor_2_name  \\\n",
      "0                         0.0                   855.0      Joel David Moore   \n",
      "1                       563.0                  1000.0         Orlando Bloom   \n",
      "2                         0.0                   161.0          Rory Kinnear   \n",
      "3                     22000.0                 23000.0        Christian Bale   \n",
      "4                       131.0                     NaN            Rob Walker   \n",
      "5                       475.0                   530.0       Samantha Morton   \n",
      "6                         0.0                  4000.0          James Franco   \n",
      "7                        15.0                   284.0          Donna Murphy   \n",
      "8                         0.0                 19000.0     Robert Downey Jr.   \n",
      "9                       282.0                 10000.0      Daniel Radcliffe   \n",
      "10                        0.0                  2000.0          Lauren Cohan   \n",
      "11                        0.0                   903.0         Marlon Brando   \n",
      "12                      395.0                   393.0       Mathieu Amalric   \n",
      "13                      563.0                  1000.0         Orlando Bloom   \n",
      "14                      563.0                  1000.0           Ruth Wilson   \n",
      "15                        0.0                   748.0    Christopher Meloni   \n",
      "16                       80.0                   201.0  Pierfrancesco Favino   \n",
      "17                        0.0                 19000.0     Robert Downey Jr.   \n",
      "18                      252.0                  1000.0           Sam Claflin   \n",
      "19                      188.0                   718.0     Michael Stuhlbarg   \n",
      "20                        0.0                   773.0            Adam Brown   \n",
      "21                      464.0                   963.0       Andrew Garfield   \n",
      "22                        0.0                   738.0          William Hurt   \n",
      "23                        0.0                   773.0            Adam Brown   \n",
      "24                      129.0                  1000.0             Eva Green   \n",
      "25                        0.0                    84.0    Thomas Kretschmann   \n",
      "26                        0.0                   794.0          Kate Winslet   \n",
      "27                       94.0                 11000.0    Scarlett Johansson   \n",
      "28                      532.0                   627.0   Alexander Skarsgård   \n",
      "29                      365.0                  1000.0            Judy Greer   \n",
      "...                       ...                     ...                   ...   \n",
      "5013                      3.0                    42.0        Panchito Gómez   \n",
      "5014                    892.0                   492.0    Katharine Isabelle   \n",
      "5015                      0.0                     0.0     Richard Linklater   \n",
      "5016                      0.0                     9.0          Mikaal Bates   \n",
      "5017                    138.0                   138.0         Suzi Lorraine   \n",
      "5018                    589.0                     4.0           Lisa Arnold   \n",
      "5019                    158.0                   265.0       Brittany Curran   \n",
      "5020                      8.0                     8.0       Alana Kaniewski   \n",
      "5021                    157.0                    10.0         Katie Aselton   \n",
      "5022                      0.0                     4.0         Olwenya Maina   \n",
      "5023                     38.0                   211.0         Heather Burns   \n",
      "5024                     91.0                    86.0           Jason Trost   \n",
      "5025                      0.0                   105.0            Mink Stole   \n",
      "5026                    107.0                    45.0        Béatrice Dalle   \n",
      "5027                    397.0                     0.0     Nargess Mamizadeh   \n",
      "5028                     18.0                     0.0         Michael Parle   \n",
      "5029                     62.0                     6.0         Anna Nakagawa   \n",
      "5030                      5.0                    12.0        Michael Cortez   \n",
      "5031                    120.0                    84.0            Joe Coffey   \n",
      "5032                      3.0                   152.0     Stanley B. Herman   \n",
      "5033                    291.0                     8.0        David Sullivan   \n",
      "5034                      0.0                     0.0       Edgar Tancangco   \n",
      "5035                      0.0                     6.0       Peter Marquardt   \n",
      "5036                      2.0                     2.0        John Considine   \n",
      "5037                      0.0                   133.0    Caitlin FitzGerald   \n",
      "5038                      2.0                   318.0         Daphne Zuniga   \n",
      "5039                      NaN                   319.0         Valorie Curry   \n",
      "5040                      0.0                     0.0         Maxwell Moody   \n",
      "5041                      0.0                   489.0         Daniel Henney   \n",
      "5042                     16.0                    16.0      Brian Herzlinger   \n",
      "\n",
      "      actor_1_facebook_likes        gross  \\\n",
      "0                     1000.0  760505847.0   \n",
      "1                    40000.0  309404152.0   \n",
      "2                    11000.0  200074175.0   \n",
      "3                    27000.0  448130642.0   \n",
      "4                      131.0          NaN   \n",
      "5                      640.0   73058679.0   \n",
      "6                    24000.0  336530303.0   \n",
      "7                      799.0  200807262.0   \n",
      "8                    26000.0  458991599.0   \n",
      "9                    25000.0  301956980.0   \n",
      "10                   15000.0  330249062.0   \n",
      "11                   18000.0  200069408.0   \n",
      "12                     451.0  168368427.0   \n",
      "13                   40000.0  423032628.0   \n",
      "14                   40000.0   89289910.0   \n",
      "15                   15000.0  291021565.0   \n",
      "16                   22000.0  141614023.0   \n",
      "17                   26000.0  623279547.0   \n",
      "18                   40000.0  241063875.0   \n",
      "19                   10000.0  179020854.0   \n",
      "20                    5000.0  255108370.0   \n",
      "21                   15000.0  262030663.0   \n",
      "22                     891.0  105219735.0   \n",
      "23                    5000.0  258355354.0   \n",
      "24                   16000.0   70083519.0   \n",
      "25                    6000.0  218051260.0   \n",
      "26                   29000.0  658672302.0   \n",
      "27                   21000.0  407197282.0   \n",
      "28                   14000.0   65173160.0   \n",
      "29                    3000.0  652177271.0   \n",
      "...                      ...          ...   \n",
      "5013                    93.0          NaN   \n",
      "5014                   986.0          NaN   \n",
      "5015                     5.0    1227508.0   \n",
      "5016                   313.0          NaN   \n",
      "5017                   370.0          NaN   \n",
      "5018                    51.0          NaN   \n",
      "5019                   630.0          NaN   \n",
      "5020                   720.0          NaN   \n",
      "5021                   830.0     192467.0   \n",
      "5022                   147.0          NaN   \n",
      "5023                   331.0      76382.0   \n",
      "5024                   407.0          NaN   \n",
      "5025                   462.0     180483.0   \n",
      "5026                   576.0     136007.0   \n",
      "5027                     5.0     673780.0   \n",
      "5028                    10.0          NaN   \n",
      "5029                    89.0      94596.0   \n",
      "5030                    21.0          NaN   \n",
      "5031                   785.0          NaN   \n",
      "5032                   789.0          NaN   \n",
      "5033                   291.0     424760.0   \n",
      "5034                     0.0      70071.0   \n",
      "5035                   121.0    2040920.0   \n",
      "5036                    45.0          NaN   \n",
      "5037                   296.0       4584.0   \n",
      "5038                   637.0          NaN   \n",
      "5039                   841.0          NaN   \n",
      "5040                     0.0          NaN   \n",
      "5041                   946.0      10443.0   \n",
      "5042                    86.0      85222.0   \n",
      "\n",
      "                                                 genres  ...  \\\n",
      "0                       Action|Adventure|Fantasy|Sci-Fi  ...   \n",
      "1                              Action|Adventure|Fantasy  ...   \n",
      "2                             Action|Adventure|Thriller  ...   \n",
      "3                                       Action|Thriller  ...   \n",
      "4                                           Documentary  ...   \n",
      "5                               Action|Adventure|Sci-Fi  ...   \n",
      "6                              Action|Adventure|Romance  ...   \n",
      "7     Adventure|Animation|Comedy|Family|Fantasy|Musi...  ...   \n",
      "8                               Action|Adventure|Sci-Fi  ...   \n",
      "9                      Adventure|Family|Fantasy|Mystery  ...   \n",
      "10                              Action|Adventure|Sci-Fi  ...   \n",
      "11                              Action|Adventure|Sci-Fi  ...   \n",
      "12                                     Action|Adventure  ...   \n",
      "13                             Action|Adventure|Fantasy  ...   \n",
      "14                             Action|Adventure|Western  ...   \n",
      "15                      Action|Adventure|Fantasy|Sci-Fi  ...   \n",
      "16                      Action|Adventure|Family|Fantasy  ...   \n",
      "17                              Action|Adventure|Sci-Fi  ...   \n",
      "18                             Action|Adventure|Fantasy  ...   \n",
      "19        Action|Adventure|Comedy|Family|Fantasy|Sci-Fi  ...   \n",
      "20                                    Adventure|Fantasy  ...   \n",
      "21                             Action|Adventure|Fantasy  ...   \n",
      "22                       Action|Adventure|Drama|History  ...   \n",
      "23                                    Adventure|Fantasy  ...   \n",
      "24                             Adventure|Family|Fantasy  ...   \n",
      "25                       Action|Adventure|Drama|Romance  ...   \n",
      "26                                        Drama|Romance  ...   \n",
      "27                              Action|Adventure|Sci-Fi  ...   \n",
      "28                     Action|Adventure|Sci-Fi|Thriller  ...   \n",
      "29                     Action|Adventure|Sci-Fi|Thriller  ...   \n",
      "...                                                 ...  ...   \n",
      "5013                                       Drama|Family  ...   \n",
      "5014                              Action|Crime|Thriller  ...   \n",
      "5015                                       Comedy|Drama  ...   \n",
      "5016                               Crime|Drama|Thriller  ...   \n",
      "5017                                     Comedy|Romance  ...   \n",
      "5018                                              Drama  ...   \n",
      "5019                            Horror|Mystery|Thriller  ...   \n",
      "5020                              Drama|Horror|Thriller  ...   \n",
      "5021                               Comedy|Drama|Romance  ...   \n",
      "5022                                              Drama  ...   \n",
      "5023                                            Romance  ...   \n",
      "5024                                    Sci-Fi|Thriller  ...   \n",
      "5025                                Comedy|Crime|Horror  ...   \n",
      "5026                                Drama|Music|Romance  ...   \n",
      "5027                                              Drama  ...   \n",
      "5028                                             Horror  ...   \n",
      "5029                      Crime|Horror|Mystery|Thriller  ...   \n",
      "5030                                              Drama  ...   \n",
      "5031                             Comedy|Horror|Thriller  ...   \n",
      "5032                                        Crime|Drama  ...   \n",
      "5033                              Drama|Sci-Fi|Thriller  ...   \n",
      "5034                                           Thriller  ...   \n",
      "5035                Action|Crime|Drama|Romance|Thriller  ...   \n",
      "5036                                        Crime|Drama  ...   \n",
      "5037                                       Comedy|Drama  ...   \n",
      "5038                                       Comedy|Drama  ...   \n",
      "5039                       Crime|Drama|Mystery|Thriller  ...   \n",
      "5040                              Drama|Horror|Thriller  ...   \n",
      "5041                               Comedy|Drama|Romance  ...   \n",
      "5042                                        Documentary  ...   \n",
      "\n",
      "     num_user_for_reviews  language      country  content_rating       budget  \\\n",
      "0                  3054.0   English          USA           PG-13  237000000.0   \n",
      "1                  1238.0   English          USA           PG-13  300000000.0   \n",
      "2                   994.0   English           UK           PG-13  245000000.0   \n",
      "3                  2701.0   English          USA           PG-13  250000000.0   \n",
      "4                     NaN       NaN          NaN             NaN          NaN   \n",
      "5                   738.0   English          USA           PG-13  263700000.0   \n",
      "6                  1902.0   English          USA           PG-13  258000000.0   \n",
      "7                   387.0   English          USA              PG  260000000.0   \n",
      "8                  1117.0   English          USA           PG-13  250000000.0   \n",
      "9                   973.0   English           UK              PG  250000000.0   \n",
      "10                 3018.0   English          USA           PG-13  250000000.0   \n",
      "11                 2367.0   English          USA           PG-13  209000000.0   \n",
      "12                 1243.0   English           UK           PG-13  200000000.0   \n",
      "13                 1832.0   English          USA           PG-13  225000000.0   \n",
      "14                  711.0   English          USA           PG-13  215000000.0   \n",
      "15                 2536.0   English          USA           PG-13  225000000.0   \n",
      "16                  438.0   English          USA              PG  225000000.0   \n",
      "17                 1722.0   English          USA           PG-13  220000000.0   \n",
      "18                  484.0   English          USA           PG-13  250000000.0   \n",
      "19                  341.0   English          USA           PG-13  225000000.0   \n",
      "20                  802.0   English  New Zealand           PG-13  250000000.0   \n",
      "21                 1225.0   English          USA           PG-13  230000000.0   \n",
      "22                  546.0   English          USA           PG-13  200000000.0   \n",
      "23                  951.0   English          USA           PG-13  225000000.0   \n",
      "24                  666.0   English          USA           PG-13  180000000.0   \n",
      "25                 2618.0   English  New Zealand           PG-13  207000000.0   \n",
      "26                 2528.0   English          USA           PG-13  200000000.0   \n",
      "27                 1022.0   English          USA           PG-13  250000000.0   \n",
      "28                  751.0   English          USA           PG-13  209000000.0   \n",
      "29                 1290.0   English          USA           PG-13  150000000.0   \n",
      "...                   ...       ...          ...             ...          ...   \n",
      "5013                 21.0   English          USA             NaN      24000.0   \n",
      "5014                129.0   English       Canada               R          NaN   \n",
      "5015                 80.0   English          USA               R      23000.0   \n",
      "5016                  2.0   English          USA             NaN      25000.0   \n",
      "5017                  3.0   English          USA             NaN      22000.0   \n",
      "5018                 49.0   English          USA             NaN      20000.0   \n",
      "5019                 33.0   English          USA               R          NaN   \n",
      "5020                  8.0   English          USA             NaN      17350.0   \n",
      "5021                 71.0   English          USA               R      15000.0   \n",
      "5022                  1.0   Swahili        Kenya             NaN      15000.0   \n",
      "5023                  8.0   English          USA             NaN      15000.0   \n",
      "5024                 35.0   English          USA         Unrated      20000.0   \n",
      "5025                183.0   English          USA           NC-17      10000.0   \n",
      "5026                 39.0    French       France               R       4500.0   \n",
      "5027                 26.0   Persian         Iran       Not Rated      10000.0   \n",
      "5028                  1.0   English      Ireland             NaN      10000.0   \n",
      "5029                 50.0  Japanese        Japan             NaN    1000000.0   \n",
      "5030                  3.0   English          USA             NaN          NaN   \n",
      "5031                  8.0   English          USA             NaN     200000.0   \n",
      "5032                 14.0   English          USA             NaN          NaN   \n",
      "5033                371.0   English          USA           PG-13       7000.0   \n",
      "5034                 35.0   English  Philippines       Not Rated       7000.0   \n",
      "5035                130.0   Spanish          USA               R       7000.0   \n",
      "5036                  1.0   English          USA           PG-13       3250.0   \n",
      "5037                 14.0   English          USA       Not Rated       9000.0   \n",
      "5038                  6.0   English       Canada             NaN          NaN   \n",
      "5039                359.0   English          USA           TV-14          NaN   \n",
      "5040                  3.0   English          USA             NaN       1400.0   \n",
      "5041                  9.0   English          USA           PG-13          NaN   \n",
      "5042                 84.0   English          USA              PG       1100.0   \n",
      "\n",
      "      title_year actor_2_facebook_likes imdb_score  aspect_ratio  \\\n",
      "0         2009.0                  936.0        7.9          1.78   \n",
      "1         2007.0                 5000.0        7.1          2.35   \n",
      "2         2015.0                  393.0        6.8          2.35   \n",
      "3         2012.0                23000.0        8.5          2.35   \n",
      "4            NaN                   12.0        7.1           NaN   \n",
      "5         2012.0                  632.0        6.6          2.35   \n",
      "6         2007.0                11000.0        6.2          2.35   \n",
      "7         2010.0                  553.0        7.8          1.85   \n",
      "8         2015.0                21000.0        7.5          2.35   \n",
      "9         2009.0                11000.0        7.5          2.35   \n",
      "10        2016.0                 4000.0        6.9          2.35   \n",
      "11        2006.0                10000.0        6.1          2.35   \n",
      "12        2008.0                  412.0        6.7          2.35   \n",
      "13        2006.0                 5000.0        7.3          2.35   \n",
      "14        2013.0                 2000.0        6.5          2.35   \n",
      "15        2013.0                 3000.0        7.2          2.35   \n",
      "16        2008.0                  216.0        6.6          2.35   \n",
      "17        2012.0                21000.0        8.1          1.85   \n",
      "18        2011.0                11000.0        6.7          2.35   \n",
      "19        2012.0                  816.0        6.8          1.85   \n",
      "20        2014.0                  972.0        7.5          2.35   \n",
      "21        2012.0                10000.0        7.0          2.35   \n",
      "22        2010.0                  882.0        6.7          2.35   \n",
      "23        2013.0                  972.0        7.9          2.35   \n",
      "24        2007.0                 6000.0        6.1          2.35   \n",
      "25        2005.0                  919.0        7.2          2.35   \n",
      "26        1997.0                14000.0        7.7          2.35   \n",
      "27        2016.0                19000.0        8.2          2.35   \n",
      "28        2012.0                10000.0        5.9          2.35   \n",
      "29        2015.0                 2000.0        7.0          2.00   \n",
      "...          ...                    ...        ...           ...   \n",
      "5013      2002.0                   46.0        7.0          1.78   \n",
      "5014      2009.0                  918.0        6.3          2.35   \n",
      "5015      1991.0                    0.0        7.1          1.37   \n",
      "5016      2015.0                   25.0        4.8           NaN   \n",
      "5017      2013.0                  184.0        3.3          1.78   \n",
      "5018      2003.0                   49.0        6.9          1.85   \n",
      "5019      2015.0                  512.0        4.6          1.85   \n",
      "5020      2011.0                   19.0        3.0           NaN   \n",
      "5021      2005.0                  224.0        6.6           NaN   \n",
      "5022      2014.0                   19.0        7.4           NaN   \n",
      "5023      2009.0                  212.0        6.2          2.35   \n",
      "5024      2011.0                   91.0        4.0          2.35   \n",
      "5025      1972.0                  143.0        6.1          1.37   \n",
      "5026      2004.0                  133.0        6.9          2.35   \n",
      "5027      2000.0                    0.0        7.5          1.85   \n",
      "5028      2007.0                    5.0        6.7          1.33   \n",
      "5029      1997.0                   13.0        7.4          1.85   \n",
      "5030      2004.0                   20.0        6.1           NaN   \n",
      "5031      2012.0                   98.0        5.4         16.00   \n",
      "5032      1995.0                  194.0        6.4           NaN   \n",
      "5033      2004.0                   45.0        7.0          1.85   \n",
      "5034      2005.0                    0.0        6.3           NaN   \n",
      "5035      1992.0                   20.0        6.9          1.37   \n",
      "5036      2005.0                   44.0        7.8           NaN   \n",
      "5037      2011.0                  205.0        6.4           NaN   \n",
      "5038      2013.0                  470.0        7.7           NaN   \n",
      "5039         NaN                  593.0        7.5         16.00   \n",
      "5040      2013.0                    0.0        6.3           NaN   \n",
      "5041      2012.0                  719.0        6.3          2.35   \n",
      "5042      2004.0                   23.0        6.6          1.85   \n",
      "\n",
      "     movie_facebook_likes  \n",
      "0                   33000  \n",
      "1                       0  \n",
      "2                   85000  \n",
      "3                  164000  \n",
      "4                       0  \n",
      "5                   24000  \n",
      "6                       0  \n",
      "7                   29000  \n",
      "8                  118000  \n",
      "9                   10000  \n",
      "10                 197000  \n",
      "11                      0  \n",
      "12                      0  \n",
      "13                   5000  \n",
      "14                  48000  \n",
      "15                 118000  \n",
      "16                      0  \n",
      "17                 123000  \n",
      "18                  58000  \n",
      "19                  40000  \n",
      "20                  65000  \n",
      "21                  56000  \n",
      "22                  17000  \n",
      "23                  83000  \n",
      "24                      0  \n",
      "25                      0  \n",
      "26                  26000  \n",
      "27                  72000  \n",
      "28                  44000  \n",
      "29                 150000  \n",
      "...                   ...  \n",
      "5013                   61  \n",
      "5014                    0  \n",
      "5015                 2000  \n",
      "5016                   33  \n",
      "5017                  200  \n",
      "5018                  725  \n",
      "5019                    0  \n",
      "5020                   33  \n",
      "5021                  297  \n",
      "5022                   45  \n",
      "5023                  324  \n",
      "5024                  835  \n",
      "5025                    0  \n",
      "5026                  171  \n",
      "5027                  697  \n",
      "5028                  105  \n",
      "5029                  817  \n",
      "5030                   22  \n",
      "5031                  424  \n",
      "5032                   20  \n",
      "5033                19000  \n",
      "5034                   74  \n",
      "5035                    0  \n",
      "5036                    4  \n",
      "5037                  413  \n",
      "5038                   84  \n",
      "5039                32000  \n",
      "5040                   16  \n",
      "5041                  660  \n",
      "5042                  456  \n",
      "\n",
      "[5043 rows x 28 columns]\n"
     ]
    }
   ],
   "source": [
    "print(df)"
   ]
  },
  {
   "cell_type": "code",
   "execution_count": 8,
   "metadata": {},
   "outputs": [
    {
     "name": "stdout",
     "output_type": "stream",
     "text": [
      "<class 'pandas.core.frame.DataFrame'>\n"
     ]
    }
   ],
   "source": [
    "print(type(df))"
   ]
  },
  {
   "cell_type": "code",
   "execution_count": 9,
   "metadata": {},
   "outputs": [
    {
     "data": {
      "text/plain": [
       "(5043, 28)"
      ]
     },
     "execution_count": 9,
     "metadata": {},
     "output_type": "execute_result"
    }
   ],
   "source": [
    "df.shape"
   ]
  },
  {
   "cell_type": "code",
   "execution_count": 10,
   "metadata": {},
   "outputs": [
    {
     "data": {
      "text/html": [
       "<div>\n",
       "<style scoped>\n",
       "    .dataframe tbody tr th:only-of-type {\n",
       "        vertical-align: middle;\n",
       "    }\n",
       "\n",
       "    .dataframe tbody tr th {\n",
       "        vertical-align: top;\n",
       "    }\n",
       "\n",
       "    .dataframe thead th {\n",
       "        text-align: right;\n",
       "    }\n",
       "</style>\n",
       "<table border=\"1\" class=\"dataframe\">\n",
       "  <thead>\n",
       "    <tr style=\"text-align: right;\">\n",
       "      <th></th>\n",
       "      <th>color</th>\n",
       "      <th>director_name</th>\n",
       "      <th>num_critic_for_reviews</th>\n",
       "      <th>duration</th>\n",
       "      <th>director_facebook_likes</th>\n",
       "      <th>actor_3_facebook_likes</th>\n",
       "      <th>actor_2_name</th>\n",
       "      <th>actor_1_facebook_likes</th>\n",
       "      <th>gross</th>\n",
       "      <th>genres</th>\n",
       "      <th>...</th>\n",
       "      <th>num_user_for_reviews</th>\n",
       "      <th>language</th>\n",
       "      <th>country</th>\n",
       "      <th>content_rating</th>\n",
       "      <th>budget</th>\n",
       "      <th>title_year</th>\n",
       "      <th>actor_2_facebook_likes</th>\n",
       "      <th>imdb_score</th>\n",
       "      <th>aspect_ratio</th>\n",
       "      <th>movie_facebook_likes</th>\n",
       "    </tr>\n",
       "  </thead>\n",
       "  <tbody>\n",
       "    <tr>\n",
       "      <th>0</th>\n",
       "      <td>Color</td>\n",
       "      <td>James Cameron</td>\n",
       "      <td>723.0</td>\n",
       "      <td>178.0</td>\n",
       "      <td>0.0</td>\n",
       "      <td>855.0</td>\n",
       "      <td>Joel David Moore</td>\n",
       "      <td>1000.0</td>\n",
       "      <td>760505847.0</td>\n",
       "      <td>Action|Adventure|Fantasy|Sci-Fi</td>\n",
       "      <td>...</td>\n",
       "      <td>3054.0</td>\n",
       "      <td>English</td>\n",
       "      <td>USA</td>\n",
       "      <td>PG-13</td>\n",
       "      <td>237000000.0</td>\n",
       "      <td>2009.0</td>\n",
       "      <td>936.0</td>\n",
       "      <td>7.9</td>\n",
       "      <td>1.78</td>\n",
       "      <td>33000</td>\n",
       "    </tr>\n",
       "    <tr>\n",
       "      <th>1</th>\n",
       "      <td>Color</td>\n",
       "      <td>Gore Verbinski</td>\n",
       "      <td>302.0</td>\n",
       "      <td>169.0</td>\n",
       "      <td>563.0</td>\n",
       "      <td>1000.0</td>\n",
       "      <td>Orlando Bloom</td>\n",
       "      <td>40000.0</td>\n",
       "      <td>309404152.0</td>\n",
       "      <td>Action|Adventure|Fantasy</td>\n",
       "      <td>...</td>\n",
       "      <td>1238.0</td>\n",
       "      <td>English</td>\n",
       "      <td>USA</td>\n",
       "      <td>PG-13</td>\n",
       "      <td>300000000.0</td>\n",
       "      <td>2007.0</td>\n",
       "      <td>5000.0</td>\n",
       "      <td>7.1</td>\n",
       "      <td>2.35</td>\n",
       "      <td>0</td>\n",
       "    </tr>\n",
       "    <tr>\n",
       "      <th>2</th>\n",
       "      <td>Color</td>\n",
       "      <td>Sam Mendes</td>\n",
       "      <td>602.0</td>\n",
       "      <td>148.0</td>\n",
       "      <td>0.0</td>\n",
       "      <td>161.0</td>\n",
       "      <td>Rory Kinnear</td>\n",
       "      <td>11000.0</td>\n",
       "      <td>200074175.0</td>\n",
       "      <td>Action|Adventure|Thriller</td>\n",
       "      <td>...</td>\n",
       "      <td>994.0</td>\n",
       "      <td>English</td>\n",
       "      <td>UK</td>\n",
       "      <td>PG-13</td>\n",
       "      <td>245000000.0</td>\n",
       "      <td>2015.0</td>\n",
       "      <td>393.0</td>\n",
       "      <td>6.8</td>\n",
       "      <td>2.35</td>\n",
       "      <td>85000</td>\n",
       "    </tr>\n",
       "    <tr>\n",
       "      <th>3</th>\n",
       "      <td>Color</td>\n",
       "      <td>Christopher Nolan</td>\n",
       "      <td>813.0</td>\n",
       "      <td>164.0</td>\n",
       "      <td>22000.0</td>\n",
       "      <td>23000.0</td>\n",
       "      <td>Christian Bale</td>\n",
       "      <td>27000.0</td>\n",
       "      <td>448130642.0</td>\n",
       "      <td>Action|Thriller</td>\n",
       "      <td>...</td>\n",
       "      <td>2701.0</td>\n",
       "      <td>English</td>\n",
       "      <td>USA</td>\n",
       "      <td>PG-13</td>\n",
       "      <td>250000000.0</td>\n",
       "      <td>2012.0</td>\n",
       "      <td>23000.0</td>\n",
       "      <td>8.5</td>\n",
       "      <td>2.35</td>\n",
       "      <td>164000</td>\n",
       "    </tr>\n",
       "    <tr>\n",
       "      <th>4</th>\n",
       "      <td>NaN</td>\n",
       "      <td>Doug Walker</td>\n",
       "      <td>NaN</td>\n",
       "      <td>NaN</td>\n",
       "      <td>131.0</td>\n",
       "      <td>NaN</td>\n",
       "      <td>Rob Walker</td>\n",
       "      <td>131.0</td>\n",
       "      <td>NaN</td>\n",
       "      <td>Documentary</td>\n",
       "      <td>...</td>\n",
       "      <td>NaN</td>\n",
       "      <td>NaN</td>\n",
       "      <td>NaN</td>\n",
       "      <td>NaN</td>\n",
       "      <td>NaN</td>\n",
       "      <td>NaN</td>\n",
       "      <td>12.0</td>\n",
       "      <td>7.1</td>\n",
       "      <td>NaN</td>\n",
       "      <td>0</td>\n",
       "    </tr>\n",
       "    <tr>\n",
       "      <th>5</th>\n",
       "      <td>Color</td>\n",
       "      <td>Andrew Stanton</td>\n",
       "      <td>462.0</td>\n",
       "      <td>132.0</td>\n",
       "      <td>475.0</td>\n",
       "      <td>530.0</td>\n",
       "      <td>Samantha Morton</td>\n",
       "      <td>640.0</td>\n",
       "      <td>73058679.0</td>\n",
       "      <td>Action|Adventure|Sci-Fi</td>\n",
       "      <td>...</td>\n",
       "      <td>738.0</td>\n",
       "      <td>English</td>\n",
       "      <td>USA</td>\n",
       "      <td>PG-13</td>\n",
       "      <td>263700000.0</td>\n",
       "      <td>2012.0</td>\n",
       "      <td>632.0</td>\n",
       "      <td>6.6</td>\n",
       "      <td>2.35</td>\n",
       "      <td>24000</td>\n",
       "    </tr>\n",
       "    <tr>\n",
       "      <th>6</th>\n",
       "      <td>Color</td>\n",
       "      <td>Sam Raimi</td>\n",
       "      <td>392.0</td>\n",
       "      <td>156.0</td>\n",
       "      <td>0.0</td>\n",
       "      <td>4000.0</td>\n",
       "      <td>James Franco</td>\n",
       "      <td>24000.0</td>\n",
       "      <td>336530303.0</td>\n",
       "      <td>Action|Adventure|Romance</td>\n",
       "      <td>...</td>\n",
       "      <td>1902.0</td>\n",
       "      <td>English</td>\n",
       "      <td>USA</td>\n",
       "      <td>PG-13</td>\n",
       "      <td>258000000.0</td>\n",
       "      <td>2007.0</td>\n",
       "      <td>11000.0</td>\n",
       "      <td>6.2</td>\n",
       "      <td>2.35</td>\n",
       "      <td>0</td>\n",
       "    </tr>\n",
       "    <tr>\n",
       "      <th>7</th>\n",
       "      <td>Color</td>\n",
       "      <td>Nathan Greno</td>\n",
       "      <td>324.0</td>\n",
       "      <td>100.0</td>\n",
       "      <td>15.0</td>\n",
       "      <td>284.0</td>\n",
       "      <td>Donna Murphy</td>\n",
       "      <td>799.0</td>\n",
       "      <td>200807262.0</td>\n",
       "      <td>Adventure|Animation|Comedy|Family|Fantasy|Musi...</td>\n",
       "      <td>...</td>\n",
       "      <td>387.0</td>\n",
       "      <td>English</td>\n",
       "      <td>USA</td>\n",
       "      <td>PG</td>\n",
       "      <td>260000000.0</td>\n",
       "      <td>2010.0</td>\n",
       "      <td>553.0</td>\n",
       "      <td>7.8</td>\n",
       "      <td>1.85</td>\n",
       "      <td>29000</td>\n",
       "    </tr>\n",
       "    <tr>\n",
       "      <th>8</th>\n",
       "      <td>Color</td>\n",
       "      <td>Joss Whedon</td>\n",
       "      <td>635.0</td>\n",
       "      <td>141.0</td>\n",
       "      <td>0.0</td>\n",
       "      <td>19000.0</td>\n",
       "      <td>Robert Downey Jr.</td>\n",
       "      <td>26000.0</td>\n",
       "      <td>458991599.0</td>\n",
       "      <td>Action|Adventure|Sci-Fi</td>\n",
       "      <td>...</td>\n",
       "      <td>1117.0</td>\n",
       "      <td>English</td>\n",
       "      <td>USA</td>\n",
       "      <td>PG-13</td>\n",
       "      <td>250000000.0</td>\n",
       "      <td>2015.0</td>\n",
       "      <td>21000.0</td>\n",
       "      <td>7.5</td>\n",
       "      <td>2.35</td>\n",
       "      <td>118000</td>\n",
       "    </tr>\n",
       "    <tr>\n",
       "      <th>9</th>\n",
       "      <td>Color</td>\n",
       "      <td>David Yates</td>\n",
       "      <td>375.0</td>\n",
       "      <td>153.0</td>\n",
       "      <td>282.0</td>\n",
       "      <td>10000.0</td>\n",
       "      <td>Daniel Radcliffe</td>\n",
       "      <td>25000.0</td>\n",
       "      <td>301956980.0</td>\n",
       "      <td>Adventure|Family|Fantasy|Mystery</td>\n",
       "      <td>...</td>\n",
       "      <td>973.0</td>\n",
       "      <td>English</td>\n",
       "      <td>UK</td>\n",
       "      <td>PG</td>\n",
       "      <td>250000000.0</td>\n",
       "      <td>2009.0</td>\n",
       "      <td>11000.0</td>\n",
       "      <td>7.5</td>\n",
       "      <td>2.35</td>\n",
       "      <td>10000</td>\n",
       "    </tr>\n",
       "  </tbody>\n",
       "</table>\n",
       "<p>10 rows × 28 columns</p>\n",
       "</div>"
      ],
      "text/plain": [
       "   color      director_name  num_critic_for_reviews  duration  \\\n",
       "0  Color      James Cameron                   723.0     178.0   \n",
       "1  Color     Gore Verbinski                   302.0     169.0   \n",
       "2  Color         Sam Mendes                   602.0     148.0   \n",
       "3  Color  Christopher Nolan                   813.0     164.0   \n",
       "4    NaN        Doug Walker                     NaN       NaN   \n",
       "5  Color     Andrew Stanton                   462.0     132.0   \n",
       "6  Color          Sam Raimi                   392.0     156.0   \n",
       "7  Color       Nathan Greno                   324.0     100.0   \n",
       "8  Color        Joss Whedon                   635.0     141.0   \n",
       "9  Color        David Yates                   375.0     153.0   \n",
       "\n",
       "   director_facebook_likes  actor_3_facebook_likes       actor_2_name  \\\n",
       "0                      0.0                   855.0   Joel David Moore   \n",
       "1                    563.0                  1000.0      Orlando Bloom   \n",
       "2                      0.0                   161.0       Rory Kinnear   \n",
       "3                  22000.0                 23000.0     Christian Bale   \n",
       "4                    131.0                     NaN         Rob Walker   \n",
       "5                    475.0                   530.0    Samantha Morton   \n",
       "6                      0.0                  4000.0       James Franco   \n",
       "7                     15.0                   284.0       Donna Murphy   \n",
       "8                      0.0                 19000.0  Robert Downey Jr.   \n",
       "9                    282.0                 10000.0   Daniel Radcliffe   \n",
       "\n",
       "   actor_1_facebook_likes        gross  \\\n",
       "0                  1000.0  760505847.0   \n",
       "1                 40000.0  309404152.0   \n",
       "2                 11000.0  200074175.0   \n",
       "3                 27000.0  448130642.0   \n",
       "4                   131.0          NaN   \n",
       "5                   640.0   73058679.0   \n",
       "6                 24000.0  336530303.0   \n",
       "7                   799.0  200807262.0   \n",
       "8                 26000.0  458991599.0   \n",
       "9                 25000.0  301956980.0   \n",
       "\n",
       "                                              genres  ...  \\\n",
       "0                    Action|Adventure|Fantasy|Sci-Fi  ...   \n",
       "1                           Action|Adventure|Fantasy  ...   \n",
       "2                          Action|Adventure|Thriller  ...   \n",
       "3                                    Action|Thriller  ...   \n",
       "4                                        Documentary  ...   \n",
       "5                            Action|Adventure|Sci-Fi  ...   \n",
       "6                           Action|Adventure|Romance  ...   \n",
       "7  Adventure|Animation|Comedy|Family|Fantasy|Musi...  ...   \n",
       "8                            Action|Adventure|Sci-Fi  ...   \n",
       "9                   Adventure|Family|Fantasy|Mystery  ...   \n",
       "\n",
       "  num_user_for_reviews language  country  content_rating       budget  \\\n",
       "0               3054.0  English      USA           PG-13  237000000.0   \n",
       "1               1238.0  English      USA           PG-13  300000000.0   \n",
       "2                994.0  English       UK           PG-13  245000000.0   \n",
       "3               2701.0  English      USA           PG-13  250000000.0   \n",
       "4                  NaN      NaN      NaN             NaN          NaN   \n",
       "5                738.0  English      USA           PG-13  263700000.0   \n",
       "6               1902.0  English      USA           PG-13  258000000.0   \n",
       "7                387.0  English      USA              PG  260000000.0   \n",
       "8               1117.0  English      USA           PG-13  250000000.0   \n",
       "9                973.0  English       UK              PG  250000000.0   \n",
       "\n",
       "   title_year actor_2_facebook_likes imdb_score  aspect_ratio  \\\n",
       "0      2009.0                  936.0        7.9          1.78   \n",
       "1      2007.0                 5000.0        7.1          2.35   \n",
       "2      2015.0                  393.0        6.8          2.35   \n",
       "3      2012.0                23000.0        8.5          2.35   \n",
       "4         NaN                   12.0        7.1           NaN   \n",
       "5      2012.0                  632.0        6.6          2.35   \n",
       "6      2007.0                11000.0        6.2          2.35   \n",
       "7      2010.0                  553.0        7.8          1.85   \n",
       "8      2015.0                21000.0        7.5          2.35   \n",
       "9      2009.0                11000.0        7.5          2.35   \n",
       "\n",
       "  movie_facebook_likes  \n",
       "0                33000  \n",
       "1                    0  \n",
       "2                85000  \n",
       "3               164000  \n",
       "4                    0  \n",
       "5                24000  \n",
       "6                    0  \n",
       "7                29000  \n",
       "8               118000  \n",
       "9                10000  \n",
       "\n",
       "[10 rows x 28 columns]"
      ]
     },
     "execution_count": 10,
     "metadata": {},
     "output_type": "execute_result"
    }
   ],
   "source": [
    "df.head(10)"
   ]
  },
  {
   "cell_type": "code",
   "execution_count": 11,
   "metadata": {},
   "outputs": [],
   "source": [
    "likes = np.array(df['director_facebook_likes'])[:10]"
   ]
  },
  {
   "cell_type": "code",
   "execution_count": 12,
   "metadata": {},
   "outputs": [
    {
     "name": "stdout",
     "output_type": "stream",
     "text": [
      "[0.00e+00 5.63e+02 0.00e+00 2.20e+04 1.31e+02 4.75e+02 0.00e+00 1.50e+01\n",
      " 0.00e+00 2.82e+02]\n"
     ]
    }
   ],
   "source": [
    "print(likes)"
   ]
  },
  {
   "cell_type": "code",
   "execution_count": 13,
   "metadata": {},
   "outputs": [
    {
     "name": "stdout",
     "output_type": "stream",
     "text": [
      "['James Cameron' 'Gore Verbinski' 'Sam Mendes' 'Christopher Nolan'\n",
      " 'Doug Walker' 'Andrew Stanton' 'Sam Raimi' 'Nathan Greno' 'Joss Whedon'\n",
      " 'David Yates']\n"
     ]
    }
   ],
   "source": [
    "name = np.array(df['director_name'])[:10]\n",
    "print(name)"
   ]
  },
  {
   "cell_type": "code",
   "execution_count": 14,
   "metadata": {},
   "outputs": [
    {
     "ename": "NameError",
     "evalue": "name 'plt' is not defined",
     "output_type": "error",
     "traceback": [
      "\u001b[1;31m---------------------------------------------------------------------------\u001b[0m",
      "\u001b[1;31mNameError\u001b[0m                                 Traceback (most recent call last)",
      "\u001b[1;32m<ipython-input-14-edec4dfca3f8>\u001b[0m in \u001b[0;36m<module>\u001b[1;34m\u001b[0m\n\u001b[1;32m----> 1\u001b[1;33m \u001b[0mplt\u001b[0m\u001b[1;33m.\u001b[0m\u001b[0mfigure\u001b[0m\u001b[1;33m(\u001b[0m\u001b[0mfigsize\u001b[0m\u001b[1;33m=\u001b[0m\u001b[1;33m(\u001b[0m\u001b[1;36m20\u001b[0m\u001b[1;33m,\u001b[0m\u001b[1;36m20\u001b[0m\u001b[1;33m)\u001b[0m\u001b[1;33m)\u001b[0m\u001b[1;33m\u001b[0m\u001b[0m\n\u001b[0m\u001b[0;32m      2\u001b[0m \u001b[0mplt\u001b[0m\u001b[1;33m.\u001b[0m\u001b[0mbar\u001b[0m\u001b[1;33m(\u001b[0m\u001b[0mname\u001b[0m\u001b[1;33m,\u001b[0m\u001b[0mlikes\u001b[0m\u001b[1;33m,\u001b[0m\u001b[0mcolor\u001b[0m \u001b[1;33m=\u001b[0m \u001b[1;34m'blue'\u001b[0m\u001b[1;33m,\u001b[0m\u001b[0mwidth\u001b[0m \u001b[1;33m=\u001b[0m \u001b[1;36m0.2\u001b[0m\u001b[1;33m,\u001b[0m\u001b[0mlabel\u001b[0m \u001b[1;33m=\u001b[0m \u001b[1;34m'2019'\u001b[0m\u001b[1;33m)\u001b[0m\u001b[1;33m\u001b[0m\u001b[0m\n\u001b[0;32m      3\u001b[0m \u001b[0mplt\u001b[0m\u001b[1;33m.\u001b[0m\u001b[0mlegend\u001b[0m\u001b[1;33m(\u001b[0m\u001b[1;33m)\u001b[0m\u001b[1;33m\u001b[0m\u001b[0m\n\u001b[0;32m      4\u001b[0m \u001b[0mplt\u001b[0m\u001b[1;33m.\u001b[0m\u001b[0mshow\u001b[0m\u001b[1;33m(\u001b[0m\u001b[1;33m)\u001b[0m\u001b[1;33m\u001b[0m\u001b[0m\n",
      "\u001b[1;31mNameError\u001b[0m: name 'plt' is not defined"
     ]
    }
   ],
   "source": [
    "plt.figure(figsize=(20,20))\n",
    "plt.bar(name,likes,color = 'blue',width = 0.2,label = '2019')\n",
    "plt.legend()\n",
    "plt.show()"
   ]
  },
  {
   "cell_type": "code",
   "execution_count": 15,
   "metadata": {},
   "outputs": [],
   "source": [
    "# work on 10/6/19"
   ]
  },
  {
   "cell_type": "code",
   "execution_count": 16,
   "metadata": {},
   "outputs": [],
   "source": [
    "mn = np.array(df['movie_title'])"
   ]
  },
  {
   "cell_type": "code",
   "execution_count": 17,
   "metadata": {},
   "outputs": [],
   "source": [
    "import numpy as np"
   ]
  },
  {
   "cell_type": "code",
   "execution_count": 18,
   "metadata": {},
   "outputs": [],
   "source": [
    "mn = np.array(df['movie_title'])"
   ]
  },
  {
   "cell_type": "code",
   "execution_count": 19,
   "metadata": {},
   "outputs": [
    {
     "name": "stdout",
     "output_type": "stream",
     "text": [
      "['Avatar\\xa0' \"Pirates of the Caribbean: At World's End\\xa0\" 'Spectre\\xa0'\n",
      " ... 'A Plague So Pleasant\\xa0' 'Shanghai Calling\\xa0'\n",
      " 'My Date with Drew\\xa0']\n"
     ]
    }
   ],
   "source": [
    "print(mn)"
   ]
  },
  {
   "cell_type": "code",
   "execution_count": null,
   "metadata": {},
   "outputs": [],
   "source": [
    "dic = {}\n",
    "for x in range(mn.shape[0]):\n",
    "    len = x.len()-4\n",
    "    dic[len] = ++1\n",
    "\n",
    "plt.bar(key,val)"
   ]
  }
 ],
 "metadata": {
  "kernelspec": {
   "display_name": "Python 3",
   "language": "python",
   "name": "python3"
  },
  "language_info": {
   "codemirror_mode": {
    "name": "ipython",
    "version": 3
   },
   "file_extension": ".py",
   "mimetype": "text/x-python",
   "name": "python",
   "nbconvert_exporter": "python",
   "pygments_lexer": "ipython3",
   "version": "3.6.4"
  }
 },
 "nbformat": 4,
 "nbformat_minor": 2
}
